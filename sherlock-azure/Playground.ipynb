{
 "cells": [
  {
   "cell_type": "code",
   "execution_count": 1,
   "metadata": {},
   "outputs": [],
   "source": [
    "import cognitive_face as cf\n",
    "\n",
    "key = '41c640b5a5ed45699e0797a76c7af4be'\n",
    "cf.Key.set(key)\n",
    "base_url = 'https://westus.api.cognitive.microsoft.com/face/v1.0/'\n",
    "cf.BaseUrl.set(base_url)"
   ]
  },
  {
   "cell_type": "code",
   "execution_count": 2,
   "metadata": {},
   "outputs": [
    {
     "name": "stdout",
     "output_type": "stream",
     "text": [
      "my_friends\n",
      "Dummy already exists\n",
      "[{'personId': '7e47ec20-8619-4d04-8368-b73ef7b66245', 'persistedFaceIds': [], 'name': 'Dummy', 'userData': None}, {'personId': '7fb4d34d-a8fc-41f9-a104-f97a137c9416', 'persistedFaceIds': ['0012fd92-f7e5-42e9-bfde-a1899036daf2', '161cd41a-e331-4ca2-a527-75d37613ffd9', '1d4d3b66-bec6-42f4-93b3-60d9efba6e15', '4f026aa6-3ab7-4626-8a29-f48a13065d8f', '55d08301-4e71-42e0-96da-24ade9882e4a', '7038f4d9-dc18-41a9-81ea-b0cf10076c09', '89000ce9-1943-42e7-8524-f11f4445c28f', '95924d55-cdf3-4f52-a163-36e50a894aad', '9df1809d-1533-4c92-9a80-f20f331408d2', '9e6e95f7-6df5-4f82-ad6c-f04376fb1b62', 'ec411cbe-cfed-45c1-b694-a799f44a39ab', 'ec7d5a88-a65f-41f5-9def-5a3e41d5feb5', 'f3e8258c-d2cb-4b78-8bb3-a004502158cd'], 'name': 'Una', 'userData': None}, {'personId': 'a491a4f5-fe17-4f4b-b60f-c5d5f1bc751b', 'persistedFaceIds': ['08e00875-0e7e-43e2-b1c7-943b2503efd5', '0c057984-dd25-4bc6-9e2a-c3a9ddb95fa6', '1c08ae0a-b1eb-470f-b339-f4456464b435', '207aac54-77fe-497e-aad8-54e3be725717', '5d828ef2-e6db-43db-a9a4-fd0d515f6cf6', '5f66ea54-ccb3-4a55-88f0-957d13ec6ba2', '8e98634d-a975-4034-9199-9fa5026e5763', '9c595edc-32f7-42f7-94d1-16906d83004b', 'afc8976c-16dc-4e35-af8e-73c02d316567', 'b06c2080-737e-4017-a87a-6a2cfdbfd924', 'c414b6b4-b7fa-4adf-ae3c-76f665e9179c'], 'name': 'John', 'userData': None}, {'personId': 'a797e2b8-b836-469a-b83f-798543e1c053', 'persistedFaceIds': [], 'name': 'Haichun', 'userData': None}]\n"
     ]
    }
   ],
   "source": [
    "group_lists = cf.person_group.lists()\n",
    "for group in group_lists:\n",
    "    group_id = group['personGroupId']\n",
    "    print(group_id)\n",
    "    if all(dic['name'] != 'Dummy' for dic in cf.person.lists('my_friends')):\n",
    "        responses = cf.person.create('my_friends', 'Dummy')\n",
    "        print('Added {}'.format(responses['personId']))\n",
    "    else:\n",
    "        print('Dummy already exists')\n",
    "    responses = cf.person.lists('my_friends')\n",
    "    print(responses)\n",
    "#     group_status = cf.person_group.get_status(group_id)\n",
    "#     print(group_status)\n",
    "#     person_lists = "
   ]
  },
  {
   "cell_type": "code",
   "execution_count": 7,
   "metadata": {},
   "outputs": [
    {
     "name": "stdout",
     "output_type": "stream",
     "text": [
      "Image captured. Waiting for detection results...\n",
      "1f131c4f-7c26-4f88-9b55-50d8d3ac1a09\n",
      "I see Haichun\n"
     ]
    }
   ],
   "source": [
    "from camera_pi import Camera\n",
    "from io import BytesIO\n",
    "from PIL import Image\n",
    "from time import sleep\n",
    "from datetime import datetime\n",
    "\n",
    "camera = Camera()\n",
    "\n",
    "image = '/home/pi/sherlock-azure/faces/Detection_%s.png' %(datetime.now().strftime('%Y%m%d_%H%M%S'))\n",
    "with open(image, 'wb') as f:\n",
    "    f.write(camera.get_frame())\n",
    "    f.close()\n",
    "print('Image captured. Waiting for detection results...')\n",
    "detect_responses = cf.face.detect(image)\n",
    "if len(detect_responses) == 0:\n",
    "    print('I see no one')\n",
    "else:\n",
    "    face_id_list = []\n",
    "    for faces in detect_responses:\n",
    "        face_id = faces['faceId']\n",
    "        print(face_id)\n",
    "        face_id_list.append(face_id)\n",
    "    identify_responses = cf.face.identify(face_id_list, 'my_friends')\n",
    "    for person in cf.person.lists('my_friends'):\n",
    "        identified = identify_responses[0]['candidates'][0]\n",
    "        if person['personId'] == identified['personId']:\n",
    "            responses = cf.person.add_face(image, 'my_friends', person['personId'])\n",
    "            responses = cf.person_group.train('my_friends')\n",
    "            identified_name = person['name']\n",
    "            print('I see ' + identified_name)\n",
    "            break"
   ]
  },
  {
   "cell_type": "code",
   "execution_count": 6,
   "metadata": {},
   "outputs": [
    {
     "name": "stdout",
     "output_type": "stream",
     "text": [
      "Image Captured 0/5\n",
      "Image Captured 1/5\n",
      "Image Captured 2/5\n",
      "Image Captured 3/5\n",
      "Image Captured 4/5\n",
      "Adding Image 0..{'persistedFaceId': '261aee17-e998-42e7-aa35-fd532f8238d7'}\n",
      "Adding Image 1..{'persistedFaceId': 'a0ba193b-ae99-4598-825d-87545760d426'}\n",
      "Adding Image 2..{'persistedFaceId': 'c3a12033-3bf6-4c33-ace9-572bc4312044'}\n",
      "Adding Image 3..{'persistedFaceId': '41ccc680-46fc-4ef9-ad6c-6cf1cb41ac15'}\n",
      "Adding Image 4..{'persistedFaceId': 'f6247ac2-b57b-46a9-806f-c68142f20bd6'}\n",
      "Get list ..[{'personId': '7e47ec20-8619-4d04-8368-b73ef7b66245', 'persistedFaceIds': [], 'name': 'Dummy', 'userData': None}, {'personId': '7fb4d34d-a8fc-41f9-a104-f97a137c9416', 'persistedFaceIds': ['0012fd92-f7e5-42e9-bfde-a1899036daf2', '161cd41a-e331-4ca2-a527-75d37613ffd9', '1d4d3b66-bec6-42f4-93b3-60d9efba6e15', '4f026aa6-3ab7-4626-8a29-f48a13065d8f', '55d08301-4e71-42e0-96da-24ade9882e4a', '7038f4d9-dc18-41a9-81ea-b0cf10076c09', '89000ce9-1943-42e7-8524-f11f4445c28f', '95924d55-cdf3-4f52-a163-36e50a894aad', '9df1809d-1533-4c92-9a80-f20f331408d2', '9e6e95f7-6df5-4f82-ad6c-f04376fb1b62', 'ec411cbe-cfed-45c1-b694-a799f44a39ab', 'ec7d5a88-a65f-41f5-9def-5a3e41d5feb5', 'f3e8258c-d2cb-4b78-8bb3-a004502158cd'], 'name': 'Una', 'userData': None}, {'personId': 'a491a4f5-fe17-4f4b-b60f-c5d5f1bc751b', 'persistedFaceIds': ['08e00875-0e7e-43e2-b1c7-943b2503efd5', '0c057984-dd25-4bc6-9e2a-c3a9ddb95fa6', '1c08ae0a-b1eb-470f-b339-f4456464b435', '207aac54-77fe-497e-aad8-54e3be725717', '5d828ef2-e6db-43db-a9a4-fd0d515f6cf6', '5f66ea54-ccb3-4a55-88f0-957d13ec6ba2', '8e98634d-a975-4034-9199-9fa5026e5763', '9c595edc-32f7-42f7-94d1-16906d83004b', 'afc8976c-16dc-4e35-af8e-73c02d316567', 'b06c2080-737e-4017-a87a-6a2cfdbfd924', 'b1cd9fad-6203-43d5-bb42-03491892ed27', 'c414b6b4-b7fa-4adf-ae3c-76f665e9179c'], 'name': 'John', 'userData': None}, {'personId': 'a797e2b8-b836-469a-b83f-798543e1c053', 'persistedFaceIds': ['261aee17-e998-42e7-aa35-fd532f8238d7', '41ccc680-46fc-4ef9-ad6c-6cf1cb41ac15', 'a0ba193b-ae99-4598-825d-87545760d426', 'c3a12033-3bf6-4c33-ace9-572bc4312044', 'f6247ac2-b57b-46a9-806f-c68142f20bd6'], 'name': 'Haichun', 'userData': None}]\n",
      "Training {}\n"
     ]
    }
   ],
   "source": [
    "name = 'Haichun'\n",
    "person_list = cf.person.lists('my_friends')\n",
    "if all(dic['name'] != name for dic in person_list):\n",
    "    responses = cf.person.create('my_friends', name)\n",
    "    person_id = responses['personId']\n",
    "    print('Added {}'.format(person_id))\n",
    "else:\n",
    "    for dic in person_list:\n",
    "        if dic['name'] == name:\n",
    "            person_id = dic['personId']\n",
    "            break\n",
    "for num in range(5):\n",
    "    image = '/home/pi/sherlock-azure/faces/%s_%d.png' %(name, num+1)\n",
    "    with open(image, 'wb') as f:\n",
    "        f.write(camera.get_frame())\n",
    "        f.close()\n",
    "    sleep(0.1)\n",
    "    print('Image Captured %d/5' %num)\n",
    "for num in range(5):\n",
    "    image = '/home/pi/sherlock-azure/faces/%s_%d.png' %(name, num+1)\n",
    "    responses = cf.person.add_face(image, 'my_friends', person_id)\n",
    "    print('Adding Image %d..%s' %(num, responses))\n",
    "responses = cf.person.lists('my_friends')\n",
    "print('Get list ..%s' %(responses))\n",
    "responses = cf.person_group.train('my_friends')\n",
    "print('Training %s' %(responses))"
   ]
  },
  {
   "cell_type": "code",
   "execution_count": null,
   "metadata": {},
   "outputs": [],
   "source": []
  },
  {
   "cell_type": "code",
   "execution_count": 1,
   "metadata": {},
   "outputs": [
    {
     "name": "stdout",
     "output_type": "stream",
     "text": [
      "Starting camera thread.\n"
     ]
    },
    {
     "name": "stderr",
     "output_type": "stream",
     "text": [
      "Exception in thread Thread-4:\n",
      "Traceback (most recent call last):\n",
      "  File \"/home/pi/berryconda3/lib/python3.6/threading.py\", line 916, in _bootstrap_inner\n",
      "    self.run()\n",
      "  File \"/home/pi/berryconda3/lib/python3.6/threading.py\", line 864, in run\n",
      "    self._target(*self._args, **self._kwargs)\n",
      "  File \"/home/pi/sherlock-azure/camera.py\", line 69, in _thread\n",
      "    for frame in frames_iterator:\n",
      "  File \"/home/pi/sherlock-azure/camera_pi.py\", line 9, in frames\n",
      "    with picamera.PiCamera() as camera:\n",
      "  File \"/home/pi/berryconda3/lib/python3.6/site-packages/picamera/camera.py\", line 433, in __init__\n",
      "    self._init_preview()\n",
      "  File \"/home/pi/berryconda3/lib/python3.6/site-packages/picamera/camera.py\", line 513, in _init_preview\n",
      "    self, self._camera.outputs[self.CAMERA_PREVIEW_PORT])\n",
      "  File \"/home/pi/berryconda3/lib/python3.6/site-packages/picamera/renderers.py\", line 558, in __init__\n",
      "    self.renderer.inputs[0].connect(source).enable()\n",
      "  File \"/home/pi/berryconda3/lib/python3.6/site-packages/picamera/mmalobj.py\", line 2212, in enable\n",
      "    prefix=\"Failed to enable connection\")\n",
      "  File \"/home/pi/berryconda3/lib/python3.6/site-packages/picamera/exc.py\", line 184, in mmal_check\n",
      "    raise PiCameraMMALError(status, prefix)\n",
      "picamera.exc.PiCameraMMALError: Failed to enable connection: Out of resources\n",
      "\n"
     ]
    },
    {
     "ename": "KeyboardInterrupt",
     "evalue": "",
     "output_type": "error",
     "traceback": [
      "\u001b[0;31m---------------------------------------------------------------------------\u001b[0m",
      "\u001b[0;31mKeyboardInterrupt\u001b[0m                         Traceback (most recent call last)",
      "\u001b[0;32m<ipython-input-1-ba188c5b5611>\u001b[0m in \u001b[0;36m<module>\u001b[0;34m()\u001b[0m\n\u001b[1;32m      8\u001b[0m \u001b[0mvision_api_key\u001b[0m \u001b[0;34m=\u001b[0m \u001b[0;34m'a5a3c94b1dee4faa8047873e73e5e642'\u001b[0m\u001b[0;34m\u001b[0m\u001b[0m\n\u001b[1;32m      9\u001b[0m \u001b[0mvision_api_url\u001b[0m \u001b[0;34m=\u001b[0m \u001b[0;34m'https://chinaeast2.api.cognitive.azure.cn/vision/v2.0/analyze'\u001b[0m\u001b[0;34m\u001b[0m\u001b[0m\n\u001b[0;32m---> 10\u001b[0;31m \u001b[0mcamera\u001b[0m \u001b[0;34m=\u001b[0m \u001b[0mCamera\u001b[0m\u001b[0;34m(\u001b[0m\u001b[0;34m)\u001b[0m\u001b[0;34m\u001b[0m\u001b[0m\n\u001b[0m\u001b[1;32m     11\u001b[0m \u001b[0;34m\u001b[0m\u001b[0m\n\u001b[1;32m     12\u001b[0m \u001b[0;32mdef\u001b[0m \u001b[0mWhatDoYouSee\u001b[0m\u001b[0;34m(\u001b[0m\u001b[0mbody\u001b[0m\u001b[0;34m)\u001b[0m\u001b[0;34m:\u001b[0m\u001b[0;34m\u001b[0m\u001b[0m\n",
      "\u001b[0;32m~/sherlock-azure/camera.py\u001b[0m in \u001b[0;36m__init__\u001b[0;34m(self)\u001b[0m\n\u001b[1;32m     48\u001b[0m             \u001b[0mBaseCamera\u001b[0m\u001b[0;34m.\u001b[0m\u001b[0mthread\u001b[0m\u001b[0;34m.\u001b[0m\u001b[0mstart\u001b[0m\u001b[0;34m(\u001b[0m\u001b[0;34m)\u001b[0m\u001b[0;34m\u001b[0m\u001b[0m\n\u001b[1;32m     49\u001b[0m \u001b[0;34m\u001b[0m\u001b[0m\n\u001b[0;32m---> 50\u001b[0;31m             \u001b[0;32mwhile\u001b[0m \u001b[0mself\u001b[0m\u001b[0;34m.\u001b[0m\u001b[0mget_frame\u001b[0m\u001b[0;34m(\u001b[0m\u001b[0;34m)\u001b[0m \u001b[0;32mis\u001b[0m \u001b[0;32mNone\u001b[0m\u001b[0;34m:\u001b[0m\u001b[0;34m\u001b[0m\u001b[0m\n\u001b[0m\u001b[1;32m     51\u001b[0m                 \u001b[0mtime\u001b[0m\u001b[0;34m.\u001b[0m\u001b[0msleep\u001b[0m\u001b[0;34m(\u001b[0m\u001b[0;36m0\u001b[0m\u001b[0;34m)\u001b[0m\u001b[0;34m\u001b[0m\u001b[0m\n\u001b[1;32m     52\u001b[0m \u001b[0;34m\u001b[0m\u001b[0m\n",
      "\u001b[0;32m~/sherlock-azure/camera.py\u001b[0m in \u001b[0;36mget_frame\u001b[0;34m(self)\u001b[0m\n\u001b[1;32m     54\u001b[0m         \u001b[0mBaseCamera\u001b[0m\u001b[0;34m.\u001b[0m\u001b[0mlast_access\u001b[0m \u001b[0;34m=\u001b[0m \u001b[0mtime\u001b[0m\u001b[0;34m.\u001b[0m\u001b[0mtime\u001b[0m\u001b[0;34m(\u001b[0m\u001b[0;34m)\u001b[0m\u001b[0;34m\u001b[0m\u001b[0m\n\u001b[1;32m     55\u001b[0m \u001b[0;34m\u001b[0m\u001b[0m\n\u001b[0;32m---> 56\u001b[0;31m         \u001b[0mBaseCamera\u001b[0m\u001b[0;34m.\u001b[0m\u001b[0mevent\u001b[0m\u001b[0;34m.\u001b[0m\u001b[0mwait\u001b[0m\u001b[0;34m(\u001b[0m\u001b[0;34m)\u001b[0m\u001b[0;34m\u001b[0m\u001b[0m\n\u001b[0m\u001b[1;32m     57\u001b[0m         \u001b[0mBaseCamera\u001b[0m\u001b[0;34m.\u001b[0m\u001b[0mevent\u001b[0m\u001b[0;34m.\u001b[0m\u001b[0mclear\u001b[0m\u001b[0;34m(\u001b[0m\u001b[0;34m)\u001b[0m\u001b[0;34m\u001b[0m\u001b[0m\n\u001b[1;32m     58\u001b[0m \u001b[0;34m\u001b[0m\u001b[0m\n",
      "\u001b[0;32m~/sherlock-azure/camera.py\u001b[0m in \u001b[0;36mwait\u001b[0;34m(self)\u001b[0m\n\u001b[1;32m     17\u001b[0m         \u001b[0;32mif\u001b[0m \u001b[0mident\u001b[0m \u001b[0;32mnot\u001b[0m \u001b[0;32min\u001b[0m \u001b[0mself\u001b[0m\u001b[0;34m.\u001b[0m\u001b[0mevents\u001b[0m\u001b[0;34m:\u001b[0m\u001b[0;34m\u001b[0m\u001b[0m\n\u001b[1;32m     18\u001b[0m             \u001b[0mself\u001b[0m\u001b[0;34m.\u001b[0m\u001b[0mevents\u001b[0m\u001b[0;34m[\u001b[0m\u001b[0mident\u001b[0m\u001b[0;34m]\u001b[0m \u001b[0;34m=\u001b[0m \u001b[0;34m[\u001b[0m\u001b[0mthreading\u001b[0m\u001b[0;34m.\u001b[0m\u001b[0mEvent\u001b[0m\u001b[0;34m(\u001b[0m\u001b[0;34m)\u001b[0m\u001b[0;34m,\u001b[0m \u001b[0mtime\u001b[0m\u001b[0;34m.\u001b[0m\u001b[0mtime\u001b[0m\u001b[0;34m(\u001b[0m\u001b[0;34m)\u001b[0m\u001b[0;34m]\u001b[0m\u001b[0;34m\u001b[0m\u001b[0m\n\u001b[0;32m---> 19\u001b[0;31m         \u001b[0;32mreturn\u001b[0m \u001b[0mself\u001b[0m\u001b[0;34m.\u001b[0m\u001b[0mevents\u001b[0m\u001b[0;34m[\u001b[0m\u001b[0mident\u001b[0m\u001b[0;34m]\u001b[0m\u001b[0;34m[\u001b[0m\u001b[0;36m0\u001b[0m\u001b[0;34m]\u001b[0m\u001b[0;34m.\u001b[0m\u001b[0mwait\u001b[0m\u001b[0;34m(\u001b[0m\u001b[0;34m)\u001b[0m\u001b[0;34m\u001b[0m\u001b[0m\n\u001b[0m\u001b[1;32m     20\u001b[0m \u001b[0;34m\u001b[0m\u001b[0m\n\u001b[1;32m     21\u001b[0m     \u001b[0;32mdef\u001b[0m \u001b[0mset\u001b[0m\u001b[0;34m(\u001b[0m\u001b[0mself\u001b[0m\u001b[0;34m)\u001b[0m\u001b[0;34m:\u001b[0m\u001b[0;34m\u001b[0m\u001b[0m\n",
      "\u001b[0;32m~/berryconda3/lib/python3.6/threading.py\u001b[0m in \u001b[0;36mwait\u001b[0;34m(self, timeout)\u001b[0m\n\u001b[1;32m    549\u001b[0m             \u001b[0msignaled\u001b[0m \u001b[0;34m=\u001b[0m \u001b[0mself\u001b[0m\u001b[0;34m.\u001b[0m\u001b[0m_flag\u001b[0m\u001b[0;34m\u001b[0m\u001b[0m\n\u001b[1;32m    550\u001b[0m             \u001b[0;32mif\u001b[0m \u001b[0;32mnot\u001b[0m \u001b[0msignaled\u001b[0m\u001b[0;34m:\u001b[0m\u001b[0;34m\u001b[0m\u001b[0m\n\u001b[0;32m--> 551\u001b[0;31m                 \u001b[0msignaled\u001b[0m \u001b[0;34m=\u001b[0m \u001b[0mself\u001b[0m\u001b[0;34m.\u001b[0m\u001b[0m_cond\u001b[0m\u001b[0;34m.\u001b[0m\u001b[0mwait\u001b[0m\u001b[0;34m(\u001b[0m\u001b[0mtimeout\u001b[0m\u001b[0;34m)\u001b[0m\u001b[0;34m\u001b[0m\u001b[0m\n\u001b[0m\u001b[1;32m    552\u001b[0m             \u001b[0;32mreturn\u001b[0m \u001b[0msignaled\u001b[0m\u001b[0;34m\u001b[0m\u001b[0m\n\u001b[1;32m    553\u001b[0m \u001b[0;34m\u001b[0m\u001b[0m\n",
      "\u001b[0;32m~/berryconda3/lib/python3.6/threading.py\u001b[0m in \u001b[0;36mwait\u001b[0;34m(self, timeout)\u001b[0m\n\u001b[1;32m    293\u001b[0m         \u001b[0;32mtry\u001b[0m\u001b[0;34m:\u001b[0m    \u001b[0;31m# restore state no matter what (e.g., KeyboardInterrupt)\u001b[0m\u001b[0;34m\u001b[0m\u001b[0m\n\u001b[1;32m    294\u001b[0m             \u001b[0;32mif\u001b[0m \u001b[0mtimeout\u001b[0m \u001b[0;32mis\u001b[0m \u001b[0;32mNone\u001b[0m\u001b[0;34m:\u001b[0m\u001b[0;34m\u001b[0m\u001b[0m\n\u001b[0;32m--> 295\u001b[0;31m                 \u001b[0mwaiter\u001b[0m\u001b[0;34m.\u001b[0m\u001b[0macquire\u001b[0m\u001b[0;34m(\u001b[0m\u001b[0;34m)\u001b[0m\u001b[0;34m\u001b[0m\u001b[0m\n\u001b[0m\u001b[1;32m    296\u001b[0m                 \u001b[0mgotit\u001b[0m \u001b[0;34m=\u001b[0m \u001b[0;32mTrue\u001b[0m\u001b[0;34m\u001b[0m\u001b[0m\n\u001b[1;32m    297\u001b[0m             \u001b[0;32melse\u001b[0m\u001b[0;34m:\u001b[0m\u001b[0;34m\u001b[0m\u001b[0m\n",
      "\u001b[0;31mKeyboardInterrupt\u001b[0m: "
     ]
    }
   ],
   "source": [
    "from whatdoyousee import *\n",
    "from camera_pi import Camera\n",
    "from io import BytesIO\n",
    "from PIL import Image\n",
    "from time import sleep\n",
    "from datetime import datetime\n",
    "\n",
    "vision_api_key = 'a5a3c94b1dee4faa8047873e73e5e642'\n",
    "vision_api_url = 'https://chinaeast2.api.cognitive.azure.cn/vision/v2.0/analyze'\n",
    "camera = Camera()\n",
    "\n",
    "def WhatDoYouSee(body):\n",
    "    headers = {\n",
    "        'Content-Type': 'application/octet-stream',\n",
    "        'Ocp-Apim-Subscription-Key': vision_api_key,\n",
    "    }\n",
    "     \n",
    "    params = {\n",
    "        'visualFeatures': 'Description, Faces',\n",
    "        'details': '',\n",
    "        'language': 'en',\n",
    "    }\n",
    "\n",
    "    try:\n",
    "        api_url = vision_api_url \n",
    "        response = requests.post(api_url, headers=headers, data=body, params=params)\n",
    "        print ('Respose:')\n",
    "        parsed = json.loads(response.text)\n",
    "        if len(parsed) == 0:\n",
    "            parsedText = 'I see nothing'\n",
    "        else:\n",
    "            tag_str = ''\n",
    "            for num_tags in range(5):\n",
    "                tag_str += parsed['description']['tags'][num_tags] + ', '\n",
    "            parsedText = 'I see %s. Top 5 tags are: %s' % (parsed['description']['captions'][0]['text'], tag_str)\n",
    "        print(parsedText)\n",
    "        print(json.dumps(parsed, sort_keys=True, indent=2))\n",
    "    except Exception as e:\n",
    "        print('Error:')\n",
    "        print(e)\n",
    "        parsedText = e\n",
    "\n",
    "    return parsedText\n",
    "\n",
    "body = camera.get_frame()\n",
    "parsedText = WhatDoYouSee(body)"
   ]
  },
  {
   "cell_type": "code",
   "execution_count": null,
   "metadata": {},
   "outputs": [],
   "source": []
  },
  {
   "cell_type": "code",
   "execution_count": null,
   "metadata": {},
   "outputs": [],
   "source": []
  },
  {
   "cell_type": "code",
   "execution_count": null,
   "metadata": {},
   "outputs": [],
   "source": []
  },
  {
   "cell_type": "code",
   "execution_count": null,
   "metadata": {},
   "outputs": [],
   "source": []
  },
  {
   "cell_type": "code",
   "execution_count": null,
   "metadata": {},
   "outputs": [],
   "source": []
  },
  {
   "cell_type": "code",
   "execution_count": null,
   "metadata": {},
   "outputs": [],
   "source": []
  },
  {
   "cell_type": "code",
   "execution_count": 2,
   "metadata": {},
   "outputs": [
    {
     "name": "stdout",
     "output_type": "stream",
     "text": [
      "388778d4-0226-4f84-a8f0-7a4d9fc4935e\n",
      "John\n"
     ]
    }
   ],
   "source": [
    "# from camera_pi import Camera\n",
    "import os\n",
    "from time import sleep\n",
    "\n",
    "# define the name of the directory to be created\n",
    "\n",
    "# camera = Camera()\n",
    "# name = 'John'\n",
    "# path = \"./faces/%s\" %(name)\n",
    "# if not os.path.exists(path):\n",
    "#     try:\n",
    "#         os.makedirs(path)\n",
    "#     except OSError:  \n",
    "#         print (\"Creation of the directory %s failed\" % path)\n",
    "#     else:  \n",
    "#         print (\"Successfully created the directory %s \" % path)\n",
    "# for num in range(20):\n",
    "#     image_file = './faces/%s/face%d.png' %(name, num)\n",
    "#     with open(image_file, 'wb') as f:\n",
    "#         f.write(camera.get_frame())\n",
    "#         f.close()\n",
    "#     sleep(0.25)\n",
    "\n",
    "img = './faces/John.png'\n",
    "detect_responses = cf.face.detect(img)\n",
    "face_id_list = []\n",
    "for faces in detect_responses:\n",
    "    face_id = faces['faceId']\n",
    "    print(face_id)\n",
    "    face_id_list.append(face_id)\n",
    "identify_responses = cf.face.identify(face_id_list, 'my_friends')\n",
    "for person in cf.person.lists('my_friends'):\n",
    "    identified = identify_responses[0]['candidates'][0]\n",
    "    if person['personId'] == identified['personId']:\n",
    "        print(person['name'])\n"
   ]
  },
  {
   "cell_type": "code",
   "execution_count": 3,
   "metadata": {},
   "outputs": [],
   "source": [
    "responses = cf.person.lists('my_friends')\n"
   ]
  },
  {
   "cell_type": "code",
   "execution_count": 1,
   "metadata": {},
   "outputs": [
    {
     "name": "stdout",
     "output_type": "stream",
     "text": [
      "Starting camera thread.\n"
     ]
    }
   ],
   "source": [
    "from datetime import datetime\n",
    "from camera_pi import Camera\n",
    "camera = Camera()\n",
    "\n",
    "image = './faces/Detection_%s.png' %(datetime.now().strftime('%Y%m%d_%H%M%S'))\n",
    "with open(image, 'wb') as f:\n",
    "    f.write(camera.get_frame())\n",
    "    f.close()"
   ]
  },
  {
   "cell_type": "code",
   "execution_count": 3,
   "metadata": {},
   "outputs": [
    {
     "name": "stdout",
     "output_type": "stream",
     "text": [
      "0525c775-1ca7-4e20-a7b6-9f8862afd46a\n",
      "[{'candidates': [{'personId': 'b99a95eb-945b-4495-a467-1528f6210e49', 'confidence': 0.6568}], 'faceId': '0525c775-1ca7-4e20-a7b6-9f8862afd46a'}]\n",
      "John\n"
     ]
    }
   ],
   "source": [
    "detect_responses = cf.face.detect(image)\n",
    "face_id_list = []\n",
    "for faces in detect_responses:\n",
    "    face_id = faces['faceId']\n",
    "    print(face_id)\n",
    "    face_id_list.append(face_id)\n",
    "identify_responses = cf.face.identify(face_id_list, 'my_friends')\n",
    "print(identify_responses)\n",
    "for detected in identify_responses:\n",
    "    for person in cf.person.lists('my_friends'):\n",
    "        identified = detected['candidates'][0]\n",
    "        if person['personId'] == identified['personId']:\n",
    "    #         responses = cf.person.add_face(image, 'my_friends', person['personId'])\n",
    "    #         responses = cf.person_group.train('my_friends')\n",
    "            identified_name = person['name']\n",
    "            print(identified_name)"
   ]
  },
  {
   "cell_type": "code",
   "execution_count": 13,
   "metadata": {},
   "outputs": [
    {
     "data": {
      "text/plain": [
       "{}"
      ]
     },
     "execution_count": 13,
     "metadata": {},
     "output_type": "execute_result"
    }
   ],
   "source": [
    "cf.person.delete('my_friends', 'ce129d49-03e2-4376-b29c-cc4a23cc6bed')"
   ]
  },
  {
   "cell_type": "code",
   "execution_count": 4,
   "metadata": {
    "scrolled": false
   },
   "outputs": [
    {
     "data": {
      "text/plain": [
       "[{'personId': '07d26e76-209f-457e-b54c-30cfb6683214',\n",
       "  'persistedFaceIds': ['2a825319-551e-4247-a0e0-8f71fa245d36',\n",
       "   '31c17173-37e3-4b2c-801a-2b5a256fc145',\n",
       "   '4fc08af5-da63-4eb9-aeed-ab940bb4b9e0',\n",
       "   '626e6f70-05ad-4e13-8311-24921ff62385',\n",
       "   '644fae01-1b39-4d4a-9e94-8e8da257b14b',\n",
       "   '6c114d89-5223-4343-9195-3064bb1aefd4',\n",
       "   '95208953-d850-4b14-acec-0cb782d84335',\n",
       "   '99fbb52c-f079-4ed6-bfa7-89b42f7f8e73',\n",
       "   'adc34524-f087-4c2e-9fb6-3b46577f33c5',\n",
       "   'b3015a76-6ae6-481f-8d1a-cc35bd7d8805',\n",
       "   'b61bca3c-6623-49f9-967d-b44f9d27607a',\n",
       "   'ca3dc3c6-892e-432a-9a3f-851f2c731556',\n",
       "   'ddb307cf-c33a-46c8-af70-500bfac2a694'],\n",
       "  'name': 'jaeho',\n",
       "  'userData': None},\n",
       " {'personId': '1427b961-17ea-42f1-8197-04b6072588b2',\n",
       "  'persistedFaceIds': [],\n",
       "  'name': 'Obama',\n",
       "  'userData': None},\n",
       " {'personId': '51a9bf05-526a-4e65-8a69-019d358ccbf1',\n",
       "  'persistedFaceIds': ['045ce115-f5ca-4282-bbc5-5dfefd7f572f',\n",
       "   '1d8e0be8-bab2-4ee9-bbff-abed3b104a82',\n",
       "   '3df3c991-e684-4c83-86bb-ee114e05875d',\n",
       "   '6aebd42b-d689-484e-b547-07b5ff3b6054',\n",
       "   'd2989b05-e047-448f-a0ef-c3895f57b53f',\n",
       "   'd5656371-42da-4180-b770-90c183865513',\n",
       "   'eec98ac1-bbac-425d-aebe-83717e0bc8ed'],\n",
       "  'name': 'Anand',\n",
       "  'userData': None},\n",
       " {'personId': '7e47ec20-8619-4d04-8368-b73ef7b66245',\n",
       "  'persistedFaceIds': [],\n",
       "  'name': 'Dummy',\n",
       "  'userData': None},\n",
       " {'personId': '7fb4d34d-a8fc-41f9-a104-f97a137c9416',\n",
       "  'persistedFaceIds': ['0012fd92-f7e5-42e9-bfde-a1899036daf2',\n",
       "   '161cd41a-e331-4ca2-a527-75d37613ffd9',\n",
       "   '1d4d3b66-bec6-42f4-93b3-60d9efba6e15',\n",
       "   '4f026aa6-3ab7-4626-8a29-f48a13065d8f',\n",
       "   '55d08301-4e71-42e0-96da-24ade9882e4a',\n",
       "   '7038f4d9-dc18-41a9-81ea-b0cf10076c09',\n",
       "   '89000ce9-1943-42e7-8524-f11f4445c28f',\n",
       "   '95924d55-cdf3-4f52-a163-36e50a894aad',\n",
       "   '9df1809d-1533-4c92-9a80-f20f331408d2',\n",
       "   '9e6e95f7-6df5-4f82-ad6c-f04376fb1b62',\n",
       "   'ec411cbe-cfed-45c1-b694-a799f44a39ab',\n",
       "   'ec7d5a88-a65f-41f5-9def-5a3e41d5feb5',\n",
       "   'f3e8258c-d2cb-4b78-8bb3-a004502158cd'],\n",
       "  'name': 'Una',\n",
       "  'userData': None},\n",
       " {'personId': '8ef0735b-cb3a-4137-941b-d518c6674572',\n",
       "  'persistedFaceIds': [],\n",
       "  'name': 'butter',\n",
       "  'userData': None},\n",
       " {'personId': '92c19aef-f531-45d3-9276-bb784f54c0b0',\n",
       "  'persistedFaceIds': ['06c95dd8-eca6-4b26-af38-83bd5b5c358b',\n",
       "   '51a23025-61ad-4a43-bf25-5b3dd245f38d',\n",
       "   '5ac1c254-a966-4ace-82ed-54d024a4482f',\n",
       "   '98221abe-74d7-4b82-8e92-fa8f0e5bd196',\n",
       "   '9dee22ae-f301-40f0-8539-d567c84d6c9c',\n",
       "   'f63f45d2-50a2-4e15-9c4b-49942eb391d3'],\n",
       "  'name': 'William',\n",
       "  'userData': None},\n",
       " {'personId': 'b99a95eb-945b-4495-a467-1528f6210e49',\n",
       "  'persistedFaceIds': ['0493fad8-27a7-4ab7-9e5a-d69e72ee1c92',\n",
       "   '10170fc2-8c5e-4019-aea2-973abeba0d7c',\n",
       "   '1218fc9f-244d-4494-a4f4-002541902493',\n",
       "   '1e44f7c8-a994-4295-8709-5bdd9c193504',\n",
       "   '2816348d-d63e-4ef1-8469-95d4a414fe1f',\n",
       "   '28a169a3-f29f-49dc-a2cf-3526b28ffbbc',\n",
       "   '3264a597-e98c-4040-990a-8d5b45e9e12a',\n",
       "   '34329a68-92a4-428f-ba1f-a9889d1655e7',\n",
       "   '39859d85-4a25-4a49-bdd9-a7bdc77b7637',\n",
       "   '45a8faec-db4c-4b4d-a730-a2298626ba5d',\n",
       "   '47d4b6b1-2416-4d81-a319-b717f853183b',\n",
       "   '4af85b4d-ea65-4f44-8252-8399261dbe7c',\n",
       "   '5a939fa1-c515-4cb0-b809-e3eee989bc1d',\n",
       "   '5b8cca7f-589d-4a40-a7bf-7c481eb4e764',\n",
       "   '5f918820-2eab-4d34-a77b-a6b293d693fe',\n",
       "   '73723bed-a8df-43c3-aac4-5dd4b2393792',\n",
       "   '7849b84c-42e6-4d5a-a3b5-9270cf947610',\n",
       "   '78b45e8f-55dc-4801-9a58-9738932e67b5',\n",
       "   '7916c080-69f8-4287-b116-20dbd70efc56',\n",
       "   '7ae88079-58c5-4d0c-a659-55426d192b7c',\n",
       "   '82eb979f-da7c-49e4-8ed3-0a3dc7c38b9e',\n",
       "   '8420b6e2-f539-47e4-9380-a653de29ae52',\n",
       "   '847ba70f-46a4-4463-964b-3b0298dffde2',\n",
       "   '90f88a08-525a-42ce-a792-976a85e54159',\n",
       "   'bc478547-45c6-4479-b359-82c156d4eb62',\n",
       "   'c7e3e945-9932-43d1-ae37-e6e979164072',\n",
       "   'ca9f54b5-1c27-4d43-a033-2e5d54add3d2',\n",
       "   'd834a3ef-3220-4a79-8247-8a8037a7fab0',\n",
       "   'ecdc23aa-5b64-4903-a66e-bebc7fd7f8b9'],\n",
       "  'name': 'John',\n",
       "  'userData': None}]"
      ]
     },
     "execution_count": 4,
     "metadata": {},
     "output_type": "execute_result"
    }
   ],
   "source": [
    "cf.person.lists('my_friends')"
   ]
  },
  {
   "cell_type": "code",
   "execution_count": 5,
   "metadata": {},
   "outputs": [
    {
     "name": "stdout",
     "output_type": "stream",
     "text": [
      "20190429_012014\n"
     ]
    }
   ],
   "source": [
    "from datetime import datetime\n",
    "print(datetime.now().strftime('%Y%m%d_%H%M%S'))"
   ]
  },
  {
   "cell_type": "code",
   "execution_count": null,
   "metadata": {},
   "outputs": [],
   "source": []
  }
 ],
 "metadata": {
  "kernelspec": {
   "display_name": "Python 3",
   "language": "python",
   "name": "python3"
  },
  "language_info": {
   "codemirror_mode": {
    "name": "ipython",
    "version": 3
   },
   "file_extension": ".py",
   "mimetype": "text/x-python",
   "name": "python",
   "nbconvert_exporter": "python",
   "pygments_lexer": "ipython3",
   "version": "3.6.6"
  }
 },
 "nbformat": 4,
 "nbformat_minor": 2
}
