{
 "cells": [
  {
   "cell_type": "markdown",
   "metadata": {},
   "source": [
    "# 1. Setup Azure\n",
    "In this notebook, we will set up the project in Azure by creating the resources we need.\n",
    "\n",
    "We start by creating the resource group that we'll put all resources into. Then we create our storage account which will be used to store all data (include logs). Finally we set up our Service Bus namespace, and a queue attached to it."
   ]
  },
  {
   "cell_type": "markdown",
   "metadata": {},
   "source": [
    "---"
   ]
  },
  {
   "cell_type": "markdown",
   "metadata": {},
   "source": [
    "### Import packages and load .env"
   ]
  },
  {
   "cell_type": "code",
   "execution_count": 1,
   "metadata": {},
   "outputs": [],
   "source": [
    "import re\n",
    "from dotenv import set_key, get_key, find_dotenv, load_dotenv\n",
    "from pathlib import Path\n",
    "import os\n",
    "import json"
   ]
  },
  {
   "cell_type": "code",
   "execution_count": 2,
   "metadata": {},
   "outputs": [
    {
     "data": {
      "text/plain": [
       "True"
      ]
     },
     "execution_count": 2,
     "metadata": {},
     "output_type": "execute_result"
    }
   ],
   "source": [
    "env_path = find_dotenv()\n",
    "if env_path=='':\n",
    "    Path('.env').touch()\n",
    "    env_path = find_dotenv()\n",
    "load_dotenv(env_path)"
   ]
  },
  {
   "cell_type": "markdown",
   "metadata": {},
   "source": [
    "### Define variables"
   ]
  },
  {
   "cell_type": "markdown",
   "metadata": {},
   "source": [
    "Set variables for the project:\n",
    "\n",
    "- `subscription_id` - the subscription id for your Azure account. Use `az account list -o table` to list all subscriptions\n",
    "- `resource_group` - the name for the resource group you'll be using for this project. You can think of resource groups as logical containers for the resources you'll create in this tutorial.\n",
    "- `region` - the region you wish to deploy your resources in:\n",
    "    - You can see a list of the regions under the key 'name' when running the command `az account list-locations`. \n",
    "    - Not all regions support GPU enabled VMs. You can check [here](https://azure.microsoft.com/en-us/pricing/details/virtual-machines/linux/)\n",
    "    \n",
    "Set your storage account variables\n",
    "\n",
    "- `storage_account_name` - the desired name of your storage account\n",
    "- `storage_container_name` - the desired container name in the storage account is a logical container for individual blobs. For this project, we'll store all content into a single container for ease-of-use\n",
    "- `model_dir` - the desired name of directory you wish to store your models\n",
    "\n",
    "Set the Service Bus variables:\n",
    "\n",
    "- `namespace` - the desired namespace for your Service Bus - this can simply be thought of as a logical container for Service Bus\n",
    "- `queue` - the desired name of the queue. The queue belongs to the namespace.\n",
    "\n",
    "Set your docker container variables:\n",
    "- `docker_login` - the login username for your docker account\n",
    "- `aks_image_repo` - the desired image repo to use for your aks container\n",
    "- `aci_image_repo` - the desired image repo to use for your aci container\n",
    "\n",
    "AKS variables:\n",
    "- `aks_cluster` - the desired name of the aks cluster\n",
    "\n",
    "Logic App deployment:\n",
    "- `logic_app` - the desired name of your logic apps\n",
    "- `aci_group` - the desired name of your aci group\n",
    "- `aci_display_name` - the display name used for your aci group"
   ]
  },
  {
   "cell_type": "code",
   "execution_count": 3,
   "metadata": {},
   "outputs": [
    {
     "name": "stdout",
     "output_type": "stream",
     "text": [
      "[\r\n",
      "  {\r\n",
      "    \"displayName\": \"China North\",\r\n",
      "    \"id\": \"/subscriptions/43f94930-ca31-4ddc-91c2-2f1be4f0e8f3/locations/chinanorth\",\r\n",
      "    \"latitude\": \"39.9788\",\r\n",
      "    \"longitude\": \"116.4959\",\r\n",
      "    \"name\": \"chinanorth\",\r\n",
      "    \"subscriptionId\": null\r\n",
      "  },\r\n",
      "  {\r\n",
      "    \"displayName\": \"China East\",\r\n",
      "    \"id\": \"/subscriptions/43f94930-ca31-4ddc-91c2-2f1be4f0e8f3/locations/chinaeast\",\r\n",
      "    \"latitude\": \"31.3209\",\r\n",
      "    \"longitude\": \"121.5891\",\r\n",
      "    \"name\": \"chinaeast\",\r\n",
      "    \"subscriptionId\": null\r\n",
      "  },\r\n",
      "  {\r\n",
      "    \"displayName\": \"China North 2\",\r\n",
      "    \"id\": \"/subscriptions/43f94930-ca31-4ddc-91c2-2f1be4f0e8f3/locations/chinanorth2\",\r\n",
      "    \"latitude\": \"39.9788\",\r\n",
      "    \"longitude\": \"116.4959\",\r\n",
      "    \"name\": \"chinanorth2\",\r\n",
      "    \"subscriptionId\": null\r\n",
      "  },\r\n",
      "  {\r\n",
      "    \"displayName\": \"China East 2\",\r\n",
      "    \"id\": \"/subscriptions/43f94930-ca31-4ddc-91c2-2f1be4f0e8f3/locations/chinaeast2\",\r\n",
      "    \"latitude\": \"31.3209\",\r\n",
      "    \"longitude\": \"121.5891\",\r\n",
      "    \"name\": \"chinaeast2\",\r\n",
      "    \"subscriptionId\": null\r\n",
      "  }\r\n",
      "]\r\n",
      "\u001b[0m"
     ]
    }
   ],
   "source": [
    "!az account list-locations"
   ]
  },
  {
   "cell_type": "code",
   "execution_count": 4,
   "metadata": {},
   "outputs": [],
   "source": [
    "subscription_id = \"43f94930-ca31-4ddc-91c2-2f1be4f0e8f3\"   # fill in\n",
    "resource_group = \"oxford\"           # fill in\n",
    "region = \"chinaeast2\"                    # fill in\n",
    "\n",
    "storage_account_name = \"oxfordsa\"            # feel free to replace or use this default\n",
    "storage_container_name = \"oxfordsc\"                       # feel free to replace or use this default\n",
    "model_dir = \"models\"                                 # feel free to replace or use this default\n",
    "\n",
    "namespace = \"oxfordnames\"                # feel free to replace or use this default\n",
    "queue = \"oxfordqueue\"                        # feel free to replace or use this default\n",
    "\n",
    "docker_login = \"pjh177787\"                      # fill in\n",
    "scoring_image_repo = \"oxford_scoring_app\"    # feel free to replace or use this default\n",
    "flask_image_repo = \"oxford_flask_app\"        # feel free to replace or use this default\n",
    "\n",
    "aks_cluster = \"oxfordcluster\"                # feel free to replace or use this default\n",
    "logic_app = \"oxfordla\"                       # feel free to replace or use this default"
   ]
  },
  {
   "cell_type": "code",
   "execution_count": 5,
   "metadata": {
    "tags": [
     "strip_out"
    ]
   },
   "outputs": [
    {
     "data": {
      "text/plain": [
       "(True, 'LOGIC_APP', 'oxfordla')"
      ]
     },
     "execution_count": 5,
     "metadata": {},
     "output_type": "execute_result"
    }
   ],
   "source": [
    "set_key(env_path, \"SUBSCRIPTION_ID\", subscription_id)\n",
    "set_key(env_path, \"RESOURCE_GROUP\", resource_group)\n",
    "set_key(env_path, \"REGION\", region)\n",
    "set_key(env_path, \"STORAGE_ACCOUNT_NAME\", storage_account_name)\n",
    "set_key(env_path, \"STORAGE_CONTAINER_NAME\", storage_container_name)\n",
    "set_key(env_path, \"STORAGE_MODEL_DIR\", model_dir)\n",
    "set_key(env_path, \"SB_NAMESPACE\", namespace)\n",
    "set_key(env_path, \"SB_QUEUE\", queue)\n",
    "set_key(env_path, \"DOCKER_LOGIN\", docker_login)\n",
    "set_key(env_path, \"SCORING_IMAGE\", scoring_image_repo)\n",
    "set_key(env_path, \"FLASK_IMAGE\", flask_image_repo)\n",
    "set_key(env_path, \"AKS_CLUSTER\", aks_cluster)\n",
    "set_key(env_path, \"LOGIC_APP\", logic_app)"
   ]
  },
  {
   "cell_type": "markdown",
   "metadata": {},
   "source": [
    "### Set up your resource group\n",
    "Make sure you've identified which subscription_id and region to use. Create a new resource group to contain all the resources that we create.\n",
    "\n",
    "This section of the notebook will walk through setting up the resource group using the __az cli__."
   ]
  },
  {
   "cell_type": "code",
   "execution_count": 6,
   "metadata": {},
   "outputs": [
    {
     "name": "stdout",
     "output_type": "stream",
     "text": [
      "[\r\n",
      "  {\r\n",
      "    \"cloudName\": \"AzureChinaCloud\",\r\n",
      "    \"id\": \"43f94930-ca31-4ddc-91c2-2f1be4f0e8f3\",\r\n",
      "    \"isDefault\": true,\r\n",
      "    \"name\": \"Windows Azure 企业\",\r\n",
      "    \"state\": \"Enabled\",\r\n",
      "    \"tenantId\": \"1c1fad78-2e51-4908-a7ee-d73cf1ea1aec\",\r\n",
      "    \"user\": {\r\n",
      "      \"name\": \"zjdemo-02@ZJAIIoTLab.partner.onmschina.cn\",\r\n",
      "      \"type\": \"user\"\r\n",
      "    }\r\n",
      "  }\r\n",
      "]\r\n",
      "\u001b[0m"
     ]
    }
   ],
   "source": [
    "!az login -u zjdemo-02@ZJAIIoTLab.partner.onmschina.cn -p ZJintern002"
   ]
  },
  {
   "cell_type": "code",
   "execution_count": 7,
   "metadata": {},
   "outputs": [
    {
     "name": "stdout",
     "output_type": "stream",
     "text": [
      "\u001b[0m"
     ]
    }
   ],
   "source": [
    "!az account set -s {subscription_id}"
   ]
  },
  {
   "cell_type": "markdown",
   "metadata": {},
   "source": [
    "Create the resource group which we'll put our storage account and all other resources for this project into."
   ]
  },
  {
   "cell_type": "code",
   "execution_count": 8,
   "metadata": {
    "tags": [
     "strip_out"
    ]
   },
   "outputs": [
    {
     "name": "stdout",
     "output_type": "stream",
     "text": [
      "{\n",
      "  \"id\": \"/subscriptions/43f94930-ca31-4ddc-91c2-2f1be4f0e8f3/resourceGroups/oxford\",\n",
      "  \"location\": \"chinaeast2\",\n",
      "  \"managedBy\": null,\n",
      "  \"name\": \"oxford\",\n",
      "  \"properties\": {\n",
      "    \"provisioningState\": \"Succeeded\"\n",
      "  },\n",
      "  \"tags\": null,\n",
      "  \"type\": null\n",
      "}\n",
      "\u001b[0m"
     ]
    }
   ],
   "source": [
    "!az group create -l {region} -n {resource_group}"
   ]
  },
  {
   "cell_type": "markdown",
   "metadata": {},
   "source": [
    "### Create Azure blob storage\n",
    "In this section of the notebook, we'll create an Azure blob storage that we'll use throughout the tutorial. This object store will be used to store input and output images as well as any supplementary data such as logs and other scripts that will be used in this workflow."
   ]
  },
  {
   "cell_type": "markdown",
   "metadata": {},
   "source": [
    "Use the __az cli__ to create the account"
   ]
  },
  {
   "cell_type": "code",
   "execution_count": 9,
   "metadata": {},
   "outputs": [
    {
     "name": "stdout",
     "output_type": "stream",
     "text": [
      "\u001b[K\"Succeeded\" ..\n",
      "\u001b[0m"
     ]
    }
   ],
   "source": [
    "!az storage account create -n {storage_account_name} -g {resource_group} --query 'provisioningState'"
   ]
  },
  {
   "cell_type": "markdown",
   "metadata": {},
   "source": [
    "Use the __az cli__ to grab the keys of the storage account that was just created. The `--quote '[0].value'` part of the command simply means to select the _value_ of the _zero-th indexed_ of the set of keys."
   ]
  },
  {
   "cell_type": "code",
   "execution_count": 10,
   "metadata": {},
   "outputs": [],
   "source": [
    "key = !az storage account keys list --account-name {storage_account_name} -g {resource_group} --query '[0].value'"
   ]
  },
  {
   "cell_type": "markdown",
   "metadata": {},
   "source": [
    "The stdout from the command above is stored in a string array of 1. Select the element in the array and ttrip opening and closing quotation marks."
   ]
  },
  {
   "cell_type": "code",
   "execution_count": 11,
   "metadata": {},
   "outputs": [],
   "source": [
    "storage_account_key = str(key[0][1:-1]) # this is used to strip opening and closing quotation marks"
   ]
  },
  {
   "cell_type": "markdown",
   "metadata": {},
   "source": [
    "Use the __az cli__ to create the container in the storage account"
   ]
  },
  {
   "cell_type": "code",
   "execution_count": 12,
   "metadata": {},
   "outputs": [
    {
     "name": "stdout",
     "output_type": "stream",
     "text": [
      "{\n",
      "  \"created\": true\n",
      "}\n",
      "\u001b[0m"
     ]
    }
   ],
   "source": [
    "!az storage container create \\\n",
    "    --account-name {storage_account_name} \\\n",
    "    --account-key {storage_account_key} \\\n",
    "    --name {storage_container_name}"
   ]
  },
  {
   "cell_type": "markdown",
   "metadata": {},
   "source": [
    "Set storage account key to dotenv file."
   ]
  },
  {
   "cell_type": "code",
   "execution_count": 13,
   "metadata": {
    "tags": [
     "strip_out"
    ]
   },
   "outputs": [
    {
     "data": {
      "text/plain": [
       "(True,\n",
       " 'STORAGE_ACCOUNT_KEY',\n",
       " 'rAYeK9c1n9QoSpbs2INGg9al6Kl4jUaUjRTA20v7GFnukMndLPEcVAEsahfrNeUWPxn/AOYVWIcYgdxZnjfxJw==')"
      ]
     },
     "execution_count": 13,
     "metadata": {},
     "output_type": "execute_result"
    }
   ],
   "source": [
    "set_key(env_path, \"STORAGE_ACCOUNT_KEY\", storage_account_key) # generated"
   ]
  },
  {
   "cell_type": "markdown",
   "metadata": {},
   "source": [
    "### Create Service Bus & Generated Keys"
   ]
  },
  {
   "cell_type": "markdown",
   "metadata": {},
   "source": [
    "Create the namespace."
   ]
  },
  {
   "cell_type": "code",
   "execution_count": 14,
   "metadata": {
    "tags": [
     "strip_out"
    ]
   },
   "outputs": [
    {
     "name": "stdout",
     "output_type": "stream",
     "text": [
      "{\n",
      "  \"createdAt\": \"2019-07-15T07:50:04.530000+00:00\",\n",
      "  \"id\": \"/subscriptions/43f94930-ca31-4ddc-91c2-2f1be4f0e8f3/resourceGroups/oxford/providers/Microsoft.ServiceBus/namespaces/oxfordnames\",\n",
      "  \"location\": \"China East 2\",\n",
      "  \"metricId\": \"43f94930-ca31-4ddc-91c2-2f1be4f0e8f3:oxfordnames\",\n",
      "  \"name\": \"oxfordnames\",\n",
      "  \"provisioningState\": \"Succeeded\",\n",
      "  \"resourceGroup\": \"oxford\",\n",
      "  \"serviceBusEndpoint\": \"https://oxfordnames.servicebus.chinacloudapi.cn:443/\",\n",
      "  \"sku\": {\n",
      "    \"capacity\": null,\n",
      "    \"name\": \"Standard\",\n",
      "    \"tier\": \"Standard\"\n",
      "  },\n",
      "  \"tags\": {},\n",
      "  \"type\": \"Microsoft.ServiceBus/Namespaces\",\n",
      "  \"updatedAt\": \"2019-07-15T07:50:50.310000+00:00\"\n",
      "}\n",
      "\u001b[0m"
     ]
    }
   ],
   "source": [
    "!az servicebus namespace create \\\n",
    "    --resource-group {resource_group} \\\n",
    "    --name {namespace} "
   ]
  },
  {
   "cell_type": "markdown",
   "metadata": {},
   "source": [
    "Create a service bus queue. Set the lock duration to 5 minutes. This means that the lock for each queue message will last for 5 minutes."
   ]
  },
  {
   "cell_type": "code",
   "execution_count": 15,
   "metadata": {
    "tags": [
     "strip_out"
    ]
   },
   "outputs": [
    {
     "name": "stdout",
     "output_type": "stream",
     "text": [
      "{\r\n",
      "  \"accessedAt\": \"0001-01-01T00:00:00\",\r\n",
      "  \"autoDeleteOnIdle\": \"10675199 days, 2:48:05.477581\",\r\n",
      "  \"countDetails\": {\r\n",
      "    \"activeMessageCount\": 0,\r\n",
      "    \"deadLetterMessageCount\": 0,\r\n",
      "    \"scheduledMessageCount\": 0,\r\n",
      "    \"transferDeadLetterMessageCount\": 0,\r\n",
      "    \"transferMessageCount\": 0\r\n",
      "  },\r\n",
      "  \"createdAt\": \"2019-07-15T07:51:08.560000+00:00\",\r\n",
      "  \"deadLetteringOnMessageExpiration\": false,\r\n",
      "  \"defaultMessageTimeToLive\": \"10675199 days, 2:48:05.477581\",\r\n",
      "  \"duplicateDetectionHistoryTimeWindow\": \"0:10:00\",\r\n",
      "  \"enableBatchedOperations\": true,\r\n",
      "  \"enableExpress\": false,\r\n",
      "  \"enablePartitioning\": false,\r\n",
      "  \"forwardDeadLetteredMessagesTo\": null,\r\n",
      "  \"forwardTo\": null,\r\n",
      "  \"id\": \"/subscriptions/43f94930-ca31-4ddc-91c2-2f1be4f0e8f3/resourceGroups/oxford/providers/Microsoft.ServiceBus/namespaces/oxfordnames/queues/oxfordqueue\",\r\n",
      "  \"location\": \"China East 2\",\r\n",
      "  \"lockDuration\": \"0:05:00\",\r\n",
      "  \"maxDeliveryCount\": 10,\r\n",
      "  \"maxSizeInMegabytes\": 5120,\r\n",
      "  \"messageCount\": 0,\r\n",
      "  \"name\": \"oxfordqueue\",\r\n",
      "  \"requiresDuplicateDetection\": false,\r\n",
      "  \"requiresSession\": false,\r\n",
      "  \"resourceGroup\": \"oxford\",\r\n",
      "  \"sizeInBytes\": 0,\r\n",
      "  \"status\": \"Active\",\r\n",
      "  \"type\": \"Microsoft.ServiceBus/Namespaces/Queues\",\r\n",
      "  \"updatedAt\": \"2019-07-15T07:51:08.603000+00:00\"\r\n",
      "}\r\n",
      "\u001b[0m"
     ]
    }
   ],
   "source": [
    "!az servicebus queue create \\\n",
    "    --resource-group {resource_group} \\\n",
    "    --namespace-name {namespace} \\\n",
    "    --name {queue} \\\n",
    "    --lock-duration PT5M"
   ]
  },
  {
   "cell_type": "markdown",
   "metadata": {},
   "source": [
    "Now that we've created our Service Bus namespace and queue, we need to get the key-name/key-value pair so that we can access it.\n",
    "\n",
    "By default, your Service Bus resource will come with an key-value \"authorization rule\" pair - its key name will have the value: \"RootManageSharedAccessKey\". The following command will get the key name for the \"authorization rule\", and assign it as `sb_key_name`."
   ]
  },
  {
   "cell_type": "code",
   "execution_count": 16,
   "metadata": {},
   "outputs": [],
   "source": [
    "sb_key_name = !az servicebus namespace authorization-rule list \\\n",
    "    --resource-group {resource_group} \\\n",
    "    --namespace-name {namespace} \\\n",
    "    -o json --query \"[0].name\"\n",
    "\n",
    "sb_key_name = str(sb_key_name[0][1:-1])"
   ]
  },
  {
   "cell_type": "markdown",
   "metadata": {},
   "source": [
    "Get the primary key value to \"RootManageSharedAccessKey\"."
   ]
  },
  {
   "cell_type": "code",
   "execution_count": 17,
   "metadata": {},
   "outputs": [],
   "source": [
    "sb_credentials = !az servicebus namespace authorization-rule keys list \\\n",
    "    --resource-group {resource_group} \\\n",
    "    --namespace-name {namespace} \\\n",
    "    --name {sb_key_name} \\\n",
    "    -o json --query \"primaryKey\""
   ]
  },
  {
   "cell_type": "code",
   "execution_count": 18,
   "metadata": {},
   "outputs": [],
   "source": [
    "sb_key_value = re.findall(r'\"(.*?)\"', str(sb_credentials))[0]"
   ]
  },
  {
   "cell_type": "markdown",
   "metadata": {},
   "source": [
    "Set the service bus key value to the dotenv file."
   ]
  },
  {
   "cell_type": "code",
   "execution_count": 19,
   "metadata": {
    "tags": [
     "strip_out"
    ]
   },
   "outputs": [
    {
     "data": {
      "text/plain": [
       "(True, 'SB_SHARED_ACCESS_KEY_NAME', 'RootManageSharedAccessKey')"
      ]
     },
     "execution_count": 19,
     "metadata": {},
     "output_type": "execute_result"
    }
   ],
   "source": [
    "set_key(env_path, \"SB_SHARED_ACCESS_KEY_VALUE\", sb_key_value) # generated\n",
    "set_key(env_path, \"SB_SHARED_ACCESS_KEY_NAME\", sb_key_name) # generated"
   ]
  },
  {
   "cell_type": "markdown",
   "metadata": {},
   "source": [
    "---"
   ]
  },
  {
   "cell_type": "markdown",
   "metadata": {},
   "source": [
    "### Set environment variables to be used by later notebooks"
   ]
  },
  {
   "cell_type": "markdown",
   "metadata": {},
   "source": [
    "Check that our `.env` file looks correct."
   ]
  },
  {
   "cell_type": "code",
   "execution_count": 20,
   "metadata": {
    "tags": [
     "strip_out"
    ]
   },
   "outputs": [
    {
     "name": "stdout",
     "output_type": "stream",
     "text": [
      "SUBSCRIPTION_ID=\"43f94930-ca31-4ddc-91c2-2f1be4f0e8f3\"\r\n",
      "RESOURCE_GROUP=\"oxford\"\r\n",
      "REGION=\"chinaeast2\"\r\n",
      "STORAGE_ACCOUNT_NAME=\"oxfordsa\"\r\n",
      "STORAGE_CONTAINER_NAME=\"oxfordsc\"\r\n",
      "STORAGE_MODEL_DIR=\"models\"\r\n",
      "SB_NAMESPACE=\"oxfordnames\"\r\n",
      "SB_QUEUE=\"oxfordqueue\"\r\n",
      "DOCKER_LOGIN=\"pjh177787\"\r\n",
      "SCORING_IMAGE=\"oxford_scoring_app\"\r\n",
      "FLASK_IMAGE=\"oxford_flask_app\"\r\n",
      "AKS_CLUSTER=\"oxfordcluster\"\r\n",
      "LOGIC_APP=\"oxfordla\"\r\n",
      "STORAGE_ACCOUNT_KEY=\"rAYeK9c1n9QoSpbs2INGg9al6Kl4jUaUjRTA20v7GFnukMndLPEcVAEsahfrNeUWPxn/AOYVWIcYgdxZnjfxJw==\"\r\n",
      "SB_SHARED_ACCESS_KEY_VALUE=\"Ap2qhvyHeoIjvq1GjwkVP3/Xn5J1epdB1bXZgbHfmwA=\"\r\n",
      "SB_SHARED_ACCESS_KEY_NAME=\"RootManageSharedAccessKey\"\r\n"
     ]
    }
   ],
   "source": [
    "!cat .env"
   ]
  },
  {
   "cell_type": "markdown",
   "metadata": {},
   "source": [
    "### Set up Azure Blob as a File System on our local machine using Blobfuse"
   ]
  },
  {
   "cell_type": "markdown",
   "metadata": {},
   "source": [
    "Install blob fuse"
   ]
  },
  {
   "cell_type": "code",
   "execution_count": 21,
   "metadata": {},
   "outputs": [],
   "source": [
    "ubuntu_version = !lsb_release -r | grep -o '[0-9][0-9].[0-9][0-9]'"
   ]
  },
  {
   "cell_type": "code",
   "execution_count": 22,
   "metadata": {},
   "outputs": [
    {
     "name": "stdout",
     "output_type": "stream",
     "text": [
      "--2019-07-15 08:13:18--  https://packages.microsoft.com/config/ubuntu/18.04/packages-microsoft-prod.deb\n",
      "Resolving packages.microsoft.com (packages.microsoft.com)... 13.76.190.189\n",
      "Connecting to packages.microsoft.com (packages.microsoft.com)|13.76.190.189|:443... connected.\n",
      "HTTP request sent, awaiting response... 200 OK\n",
      "Length: 3132 (3.1K) [application/octet-stream]\n",
      "Saving to: ‘packages-microsoft-prod.deb’\n",
      "\n",
      "packages-microsoft- 100%[===================>]   3.06K  --.-KB/s    in 0s      \n",
      "\n",
      "2019-07-15 08:13:18 (415 MB/s) - ‘packages-microsoft-prod.deb’ saved [3132/3132]\n",
      "\n",
      "(Reading database ... 123771 files and directories currently installed.)\n",
      "Preparing to unpack packages-microsoft-prod.deb ...\n",
      "Unpacking packages-microsoft-prod (1.0-ubuntu18.04.2) over (1.0-ubuntu18.04.2) ...\n",
      "Setting up packages-microsoft-prod (1.0-ubuntu18.04.2) ...\n",
      "Hit:1 https://packages.microsoft.com/repos/azure-cli bionic InRelease\n",
      "Hit:2 https://packages.microsoft.com/ubuntu/18.04/prod bionic InRelease        \n",
      "Hit:3 http://azure.archive.ubuntu.com/ubuntu bionic InRelease                  \n",
      "Get:4 http://azure.archive.ubuntu.com/ubuntu bionic-updates InRelease [88.7 kB]\n",
      "Get:5 http://azure.archive.ubuntu.com/ubuntu bionic-backports InRelease [74.6 kB]\n",
      "Get:6 http://security.ubuntu.com/ubuntu bionic-security InRelease [88.7 kB]    \n",
      "Ign:7 https://developer.download.nvidia.cn/compute/cuda/repos/ubuntu1604/x86_64  InRelease\n",
      "Hit:8 https://developer.download.nvidia.cn/compute/cuda/repos/ubuntu1604/x86_64  Release\n",
      "Fetched 252 kB in 7s (34.8 kB/s)                                               \n",
      "Reading package lists... Done\n"
     ]
    }
   ],
   "source": [
    "!wget https://packages.microsoft.com/config/ubuntu/{ubuntu_version[0]}/packages-microsoft-prod.deb\n",
    "!sudo dpkg -i packages-microsoft-prod.deb\n",
    "!sudo apt-get update"
   ]
  },
  {
   "cell_type": "code",
   "execution_count": 23,
   "metadata": {},
   "outputs": [
    {
     "name": "stdout",
     "output_type": "stream",
     "text": [
      "Reading package lists... Done\n",
      "Building dependency tree       \n",
      "Reading state information... Done\n",
      "blobfuse is already the newest version (1.0.3).\n",
      "0 upgraded, 0 newly installed, 0 to remove and 0 not upgraded.\n"
     ]
    }
   ],
   "source": [
    "!sudo apt-get install blobfuse"
   ]
  },
  {
   "cell_type": "markdown",
   "metadata": {},
   "source": [
    "Setup ramdisk tmp dir for blob fuse for low latency buffer."
   ]
  },
  {
   "cell_type": "code",
   "execution_count": 26,
   "metadata": {},
   "outputs": [
    {
     "name": "stdout",
     "output_type": "stream",
     "text": [
      "rm: cannot remove '/mnt/ramdisk': Device or resource busy\r\n"
     ]
    }
   ],
   "source": [
    "!sudo rm -rf /mnt/ramdisk && sudo mkdir /mnt/ramdisk\n",
    "!sudo mount -t tmpfs -o size=4g tmpfs /mnt/ramdisk\n",
    "!sudo mkdir /mnt/ramdisk/blobfusetmp\n",
    "!sudo chown $(whoami) /mnt/ramdisk/blobfusetmp"
   ]
  },
  {
   "cell_type": "markdown",
   "metadata": {},
   "source": [
    "Setup credentials for blob connection"
   ]
  },
  {
   "cell_type": "code",
   "execution_count": 30,
   "metadata": {},
   "outputs": [],
   "source": [
    "!rm -f fuse_connection.cfg\n",
    "!touch fuse_connection.cfg\n",
    "!echo accountName {get_key(env_path, \"STORAGE_ACCOUNT_NAME\")} >> fuse_connection.cfg\n",
    "!echo accountKey {get_key(env_path, \"STORAGE_ACCOUNT_KEY\")} >> fuse_connection.cfg\n",
    "!echo containerName {get_key(env_path, \"STORAGE_CONTAINER_NAME\")} >> fuse_connection.cfg\n",
    "!echo blobEndpoint {get_key(env_path, \"STORAGE_ACCOUNT_NAME\")}.blob.core.chinacloudapi.cn >> fuse_connection.cfg\n",
    "!chmod 700 fuse_connection.cfg"
   ]
  },
  {
   "cell_type": "markdown",
   "metadata": {},
   "source": [
    "Create mount directory"
   ]
  },
  {
   "cell_type": "code",
   "execution_count": 31,
   "metadata": {},
   "outputs": [],
   "source": [
    "!rm -rf data && mkdir data"
   ]
  },
  {
   "cell_type": "markdown",
   "metadata": {},
   "source": [
    "Mount blob to mount directory"
   ]
  },
  {
   "cell_type": "code",
   "execution_count": 32,
   "metadata": {},
   "outputs": [],
   "source": [
    "!blobfuse data \\\n",
    "    --tmp-path=/mnt/ramdisk/blobfusetmp  \\\n",
    "    --config-file=fuse_connection.cfg \\\n",
    "    -o attr_timeout=240 \\\n",
    "    -o entry_timeout=240 \\\n",
    "    -o negative_timeout=120"
   ]
  },
  {
   "cell_type": "markdown",
   "metadata": {},
   "source": [
    "### Add Model Dir and Video to storage"
   ]
  },
  {
   "cell_type": "markdown",
   "metadata": {},
   "source": [
    "Copy `models` dir to the `data` folder we just mounted."
   ]
  },
  {
   "cell_type": "code",
   "execution_count": 33,
   "metadata": {},
   "outputs": [],
   "source": [
    "!cp -r -n models data"
   ]
  },
  {
   "cell_type": "markdown",
   "metadata": {},
   "source": [
    "Download an `orangutan.mp4` video to use throughout the tutorial."
   ]
  },
  {
   "cell_type": "code",
   "execution_count": 34,
   "metadata": {},
   "outputs": [
    {
     "name": "stdout",
     "output_type": "stream",
     "text": [
      "--2019-07-15 08:16:10--  https://happypathspublic.blob.core.windows.net/videos/orangutan.mp4\n",
      "Resolving happypathspublic.blob.core.windows.net (happypathspublic.blob.core.windows.net)... 52.239.214.164\n",
      "Connecting to happypathspublic.blob.core.windows.net (happypathspublic.blob.core.windows.net)|52.239.214.164|:443... connected.\n",
      "HTTP request sent, awaiting response... 200 OK\n",
      "Length: 7961293 (7.6M) [video/mp4]\n",
      "Saving to: ‘orangutan.mp4’\n",
      "\n",
      "orangutan.mp4       100%[===================>]   7.59M  2.62MB/s    in 2.9s    \n",
      "\n",
      "2019-07-15 08:16:15 (2.62 MB/s) - ‘orangutan.mp4’ saved [7961293/7961293]\n",
      "\n"
     ]
    }
   ],
   "source": [
    "!wget https://happypathspublic.blob.core.windows.net/videos/orangutan.mp4"
   ]
  },
  {
   "cell_type": "markdown",
   "metadata": {},
   "source": [
    "Move that video into the mounted `data` folder."
   ]
  },
  {
   "cell_type": "code",
   "execution_count": 35,
   "metadata": {},
   "outputs": [],
   "source": [
    "!mv orangutan.mp4 data "
   ]
  },
  {
   "cell_type": "markdown",
   "metadata": {},
   "source": [
    "Check that our models dir and orangutan.mp4 is uploaded to our mounted blob storage container."
   ]
  },
  {
   "cell_type": "code",
   "execution_count": 36,
   "metadata": {},
   "outputs": [
    {
     "name": "stdout",
     "output_type": "stream",
     "text": [
      "models\torangutan.mp4\r\n"
     ]
    }
   ],
   "source": [
    "!ls data"
   ]
  },
  {
   "cell_type": "markdown",
   "metadata": {},
   "source": [
    "Continue to the next [notebook](/notebooks/02_local_testing.ipynb)."
   ]
  },
  {
   "cell_type": "code",
   "execution_count": null,
   "metadata": {},
   "outputs": [],
   "source": []
  }
 ],
 "metadata": {
  "kernelspec": {
   "display_name": "Python [conda env:bc_aks] *",
   "language": "python",
   "name": "conda-env-bc_aks-py"
  },
  "language_info": {
   "codemirror_mode": {
    "name": "ipython",
    "version": 3
   },
   "file_extension": ".py",
   "mimetype": "text/x-python",
   "name": "python",
   "nbconvert_exporter": "python",
   "pygments_lexer": "ipython3",
   "version": "3.6.8"
  }
 },
 "nbformat": 4,
 "nbformat_minor": 2
}
