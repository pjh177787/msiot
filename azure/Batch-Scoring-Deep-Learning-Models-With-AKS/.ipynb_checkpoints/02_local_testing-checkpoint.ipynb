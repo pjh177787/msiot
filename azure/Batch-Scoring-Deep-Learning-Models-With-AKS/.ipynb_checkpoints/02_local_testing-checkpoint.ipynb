{
 "cells": [
  {
   "cell_type": "markdown",
   "metadata": {},
   "source": [
    "# 2. Neural Style Transfer on your local machine\n",
    "\n",
    "To make sure all the scripts that are working correctly, we need to test them on our local machine first. Specifically, we'll be testing the components that will be in our __flask app__ and our __scoring app__.\n",
    "\n",
    "### Flask App\n",
    "The __flask app__ is responsible for:\n",
    "1. preprocessing the images into individual frames and extracting the audio file\n",
    "2. adding references of the individual images to the Service Bus queue\n",
    "3. waiting until style transfer has been applied to all images\n",
    "4. postprocessing the style transfer images by stitching them together into a video and re-adding the audio clip\n",
    "\n",
    "The __flask app__ contains the following files:\n",
    "- `preprocess.py` \n",
    "- `add_images_to_queue.py` \n",
    "- `postprocess.py` \n",
    "- `util.py`\n",
    "- `main.py`\n",
    "\n",
    "`preprocess.py`, `add_images_to_queue.py`, and `postprocess.py` can be executed independently. This is to allow us to test each piece. The `main.py` file will call functions the aforementioned files. It will start by preprocessing the video then adding images to the service bus queue. Then it will wait for the messages in the queue to be dequeued and processed by another running process. (This occurs in the __scoring app__.) After all the images in the queue are processed, the `main.py` will start to postprocess the output frames, and recreate a new video, but this time with the style transfered frames.\n",
    "\n",
    "### Scoring App\n",
    "The __scoring app__ is responsible for:\n",
    "1. polling the Service Bus queue for new images \n",
    "2. applying style transfer to those images and saving them back to storage\n",
    "\n",
    "The __scoring app__ containers the following files:\n",
    "- `main.py`\n",
    "- `process_images_from_queue.py`\n",
    "- `style_transfer.py`\n",
    "- `util.py`\n",
    "\n",
    "`main.py` starts the app by calling on the function in the `process_images_from_queue.py` file. This is responsible for continuously polling the service bus queue and checking for new messages. As images get pulled off the queue, the process will then call the stylize function in the `style_transfer.py` file which performs the actual style transfer. The generated style images are saved back to blob directly from this process. "
   ]
  },
  {
   "cell_type": "markdown",
   "metadata": {},
   "source": [
    "---"
   ]
  },
  {
   "cell_type": "markdown",
   "metadata": {},
   "source": [
    "### Import package and load .env"
   ]
  },
  {
   "cell_type": "code",
   "execution_count": 3,
   "metadata": {},
   "outputs": [],
   "source": [
    "from dotenv import set_key, get_key, find_dotenv, load_dotenv\n",
    "from pathlib import Path\n",
    "import json\n",
    "import os"
   ]
  },
  {
   "cell_type": "code",
   "execution_count": 4,
   "metadata": {},
   "outputs": [
    {
     "data": {
      "text/plain": [
       "True"
      ]
     },
     "execution_count": 4,
     "metadata": {},
     "output_type": "execute_result"
    }
   ],
   "source": [
    "env_path = find_dotenv(raise_error_if_not_found=True)\n",
    "load_dotenv(env_path)"
   ]
  },
  {
   "cell_type": "markdown",
   "metadata": {},
   "source": [
    "### Preprocess video \n",
    "Run the preprocessing step on the video `orangutan.mp4` that is in blob. Specify the video (including the extention) and the mounted directory to access blob. "
   ]
  },
  {
   "cell_type": "code",
   "execution_count": 5,
   "metadata": {
    "scrolled": false
   },
   "outputs": [
    {
     "name": "stdout",
     "output_type": "stream",
     "text": [
      "ffmpeg version 4.0 Copyright (c) 2000-2018 the FFmpeg developers\n",
      "  built with gcc 7.2.0 (crosstool-NG fa8859cb)\n",
      "  configuration: --prefix=/home/aperture/anaconda3/envs/bc_aks --cc=/opt/conda/conda-bld/ffmpeg_1531088893642/_build_env/bin/x86_64-conda_cos6-linux-gnu-cc --disable-doc --enable-shared --enable-static --enable-zlib --enable-pic --enable-gpl --enable-version3 --disable-nonfree --enable-hardcoded-tables --enable-avresample --enable-libfreetype --disable-openssl --disable-gnutls --enable-libvpx --enable-pthreads --enable-libopus --enable-postproc --disable-libx264\n",
      "  libavutil      56. 14.100 / 56. 14.100\n",
      "  libavcodec     58. 18.100 / 58. 18.100\n",
      "  libavformat    58. 12.100 / 58. 12.100\n",
      "  libavdevice    58.  3.100 / 58.  3.100\n",
      "  libavfilter     7. 16.100 /  7. 16.100\n",
      "  libavresample   4.  0.  0 /  4.  0.  0\n",
      "  libswscale      5.  1.100 /  5.  1.100\n",
      "  libswresample   3.  1.100 /  3.  1.100\n",
      "  libpostproc    55.  1.100 / 55.  1.100\n",
      "Input #0, mov,mp4,m4a,3gp,3g2,mj2, from 'data/orangutan.mp4':\n",
      "  Metadata:\n",
      "    major_brand     : isom\n",
      "    minor_version   : 512\n",
      "    compatible_brands: isomiso2avc1mp41\n",
      "    encoder         : Lavf58.12.100\n",
      "  Duration: 00:00:27.48, start: 0.000000, bitrate: 2317 kb/s\n",
      "    Stream #0:0(und): Video: h264 (High) (avc1 / 0x31637661), yuv420p, 720x720, 2242 kb/s, 30 fps, 30 tbr, 15360 tbn, 60 tbc (default)\n",
      "    Metadata:\n",
      "      handler_name    : VideoHandler\n",
      "    Stream #0:1(eng): Audio: aac (LC) (mp4a / 0x6134706D), 48000 Hz, mono, fltp, 69 kb/s (default)\n",
      "    Metadata:\n",
      "      handler_name    : SoundHandler\n",
      "Stream mapping:\n",
      "  Stream #0:1 -> #0:0 (aac (native) -> aac (native))\n",
      "Press [q] to stop, [?] for help\n",
      "Output #0, adts, to 'data/orangutan/audio.aac':\n",
      "  Metadata:\n",
      "    major_brand     : isom\n",
      "    minor_version   : 512\n",
      "    compatible_brands: isomiso2avc1mp41\n",
      "    encoder         : Lavf58.12.100\n",
      "    Stream #0:0(eng): Audio: aac (LC), 48000 Hz, mono, fltp, 69 kb/s (default)\n",
      "    Metadata:\n",
      "      handler_name    : SoundHandler\n",
      "      encoder         : Lavc58.18.100 aac\n",
      "size=     242kB time=00:00:27.45 bitrate=  72.2kbits/s speed= 130x    \n",
      "video:0kB audio:233kB subtitle:0kB other streams:0kB global headers:0kB muxing overhead: 3.777506%\n",
      "\u001b[1;36m[aac @ 0x55cc13934dc0] \u001b[0mQavg: 424.962\n",
      "Input #0, mov,mp4,m4a,3gp,3g2,mj2, from 'data/orangutan.mp4':\n",
      "  Metadata:\n",
      "    major_brand     : isom\n",
      "    minor_version   : 512\n",
      "    compatible_brands: isomiso2avc1mp41\n",
      "    encoder         : Lavf58.12.100\n",
      "  Duration: 00:00:27.48, start: 0.000000, bitrate: 2317 kb/s\n",
      "    Stream #0:0(und): Video: h264 (High) (avc1 / 0x31637661), yuv420p, 720x720, 2242 kb/s, 30 fps, 30 tbr, 15360 tbn, 60 tbc (default)\n",
      "    Metadata:\n",
      "      handler_name    : VideoHandler\n",
      "    Stream #0:1(eng): Audio: aac (LC) (mp4a / 0x6134706D), 48000 Hz, mono, fltp, 69 kb/s (default)\n",
      "    Metadata:\n",
      "      handler_name    : SoundHandler\n",
      "Stream mapping:\n",
      "  Stream #0:0 -> #0:0 (h264 (native) -> mjpeg (native))\n",
      "Press [q] to stop, [?] for help\n",
      "\u001b[1;34m[swscaler @ 0x55fdb6a28600] \u001b[0m\u001b[0;33mdeprecated pixel format used, make sure you did set range correctly\n",
      "\u001b[0mOutput #0, image2, to 'data/orangutan/input_frames/%06d_frame.jpg':\n",
      "  Metadata:\n",
      "    major_brand     : isom\n",
      "    minor_version   : 512\n",
      "    compatible_brands: isomiso2avc1mp41\n",
      "    encoder         : Lavf58.12.100\n",
      "    Stream #0:0(und): Video: mjpeg, yuvj420p(pc), 720x720, q=2-31, 200 kb/s, 30 fps, 30 tbn, 30 tbc (default)\n",
      "    Metadata:\n",
      "      handler_name    : VideoHandler\n",
      "      encoder         : Lavc58.18.100 mjpeg\n",
      "    Side data:\n",
      "      cpb: bitrate max/min/avg: 0/0/200000 buffer size: 0 vbv_delay: -1\n",
      "frame=  823 fps= 49 q=24.8 Lsize=N/A time=00:00:27.43 bitrate=N/A speed=1.63x    \n",
      "video:17559kB audio:0kB subtitle:0kB other streams:0kB global headers:0kB muxing overhead: unknown\n"
     ]
    }
   ],
   "source": [
    "!python flask_app/preprocess.py \\\n",
    "    --video orangutan.mp4 \\\n",
    "    --storage-mount-dir data"
   ]
  },
  {
   "cell_type": "markdown",
   "metadata": {},
   "source": [
    "### Add messages to queue\n",
    "The preprocessing step splits the video into individual frames. Now add those frames to the queue to be processed later."
   ]
  },
  {
   "cell_type": "code",
   "execution_count": 6,
   "metadata": {},
   "outputs": [],
   "source": [
    "!python flask_app/add_images_to_queue.py \\\n",
    "    --video-name orangutan \\\n",
    "    --storage-mount-dir data"
   ]
  },
  {
   "cell_type": "markdown",
   "metadata": {},
   "source": [
    "### Run the main style transfer process\n",
    "The `scoring_app/main.py` file will dequeue images from the queue and apply style transfer to the images."
   ]
  },
  {
   "cell_type": "code",
   "execution_count": null,
   "metadata": {
    "tags": [
     "strip_out"
    ]
   },
   "outputs": [
    {
     "name": "stdout",
     "output_type": "stream",
     "text": [
      "2019-07-15 08:17:04,301 [root:process_images_from_queue.py:34] DEBUG - Start listening to queue 'oxfordqueue' on service bus...\n",
      "2019-07-15 08:17:04,301 [root:process_images_from_queue.py:39] DEBUG - Peek queue...\n",
      "2019-07-15 08:17:04,377 [root:process_images_from_queue.py:75] DEBUG - Queue message body: {'input_frame': '000823_frame.jpg', 'video_name': 'orangutan'}\n",
      "2019-07-15 08:17:04,377 [root:process_images_from_queue.py:78] DEBUG - Starting style transfer on data/orangutan/input_frames/000823_frame.jpg\n",
      "2019-07-15 08:17:04,434 [root:style_transfer.py:145] DEBUG - Processing data/orangutan/input_frames/000823_frame.jpg\n",
      "2019-07-15 08:17:10,318 [root:process_images_from_queue.py:87] DEBUG - Finished style transfer on data/orangutan/input_frames/000823_frame.jpg\n",
      "2019-07-15 08:17:10,319 [root:process_images_from_queue.py:90] DEBUG - Deleting queue message...\n",
      "2019-07-15 08:17:10,363 [root:process_images_from_queue.py:39] DEBUG - Peek queue...\n",
      "2019-07-15 08:17:10,387 [root:process_images_from_queue.py:75] DEBUG - Queue message body: {'input_frame': '000822_frame.jpg', 'video_name': 'orangutan'}\n",
      "2019-07-15 08:17:10,387 [root:process_images_from_queue.py:78] DEBUG - Starting style transfer on data/orangutan/input_frames/000822_frame.jpg\n",
      "2019-07-15 08:17:10,417 [root:style_transfer.py:145] DEBUG - Processing data/orangutan/input_frames/000822_frame.jpg\n",
      "2019-07-15 08:17:16,148 [root:process_images_from_queue.py:87] DEBUG - Finished style transfer on data/orangutan/input_frames/000822_frame.jpg\n",
      "2019-07-15 08:17:16,148 [root:process_images_from_queue.py:90] DEBUG - Deleting queue message...\n",
      "2019-07-15 08:17:16,221 [root:process_images_from_queue.py:39] DEBUG - Peek queue...\n",
      "2019-07-15 08:17:16,237 [root:process_images_from_queue.py:75] DEBUG - Queue message body: {'input_frame': '000821_frame.jpg', 'video_name': 'orangutan'}\n",
      "2019-07-15 08:17:16,237 [root:process_images_from_queue.py:78] DEBUG - Starting style transfer on data/orangutan/input_frames/000821_frame.jpg\n",
      "2019-07-15 08:17:16,268 [root:style_transfer.py:145] DEBUG - Processing data/orangutan/input_frames/000821_frame.jpg\n",
      "2019-07-15 08:17:22,022 [root:process_images_from_queue.py:87] DEBUG - Finished style transfer on data/orangutan/input_frames/000821_frame.jpg\n",
      "2019-07-15 08:17:22,022 [root:process_images_from_queue.py:90] DEBUG - Deleting queue message...\n",
      "2019-07-15 08:17:22,081 [root:process_images_from_queue.py:39] DEBUG - Peek queue...\n",
      "2019-07-15 08:17:22,097 [root:process_images_from_queue.py:75] DEBUG - Queue message body: {'input_frame': '000820_frame.jpg', 'video_name': 'orangutan'}\n",
      "2019-07-15 08:17:22,097 [root:process_images_from_queue.py:78] DEBUG - Starting style transfer on data/orangutan/input_frames/000820_frame.jpg\n",
      "2019-07-15 08:17:22,129 [root:style_transfer.py:145] DEBUG - Processing data/orangutan/input_frames/000820_frame.jpg\n",
      "2019-07-15 08:17:27,808 [root:process_images_from_queue.py:87] DEBUG - Finished style transfer on data/orangutan/input_frames/000820_frame.jpg\n",
      "2019-07-15 08:17:27,809 [root:process_images_from_queue.py:90] DEBUG - Deleting queue message...\n",
      "2019-07-15 08:17:27,892 [root:process_images_from_queue.py:39] DEBUG - Peek queue...\n",
      "2019-07-15 08:17:27,906 [root:process_images_from_queue.py:75] DEBUG - Queue message body: {'input_frame': '000819_frame.jpg', 'video_name': 'orangutan'}\n",
      "2019-07-15 08:17:27,907 [root:process_images_from_queue.py:78] DEBUG - Starting style transfer on data/orangutan/input_frames/000819_frame.jpg\n",
      "2019-07-15 08:17:27,936 [root:style_transfer.py:145] DEBUG - Processing data/orangutan/input_frames/000819_frame.jpg\n",
      "2019-07-15 08:17:33,651 [root:process_images_from_queue.py:87] DEBUG - Finished style transfer on data/orangutan/input_frames/000819_frame.jpg\n",
      "2019-07-15 08:17:33,652 [root:process_images_from_queue.py:90] DEBUG - Deleting queue message...\n",
      "2019-07-15 08:17:33,710 [root:process_images_from_queue.py:39] DEBUG - Peek queue...\n",
      "2019-07-15 08:17:33,727 [root:process_images_from_queue.py:75] DEBUG - Queue message body: {'input_frame': '000818_frame.jpg', 'video_name': 'orangutan'}\n",
      "2019-07-15 08:17:33,728 [root:process_images_from_queue.py:78] DEBUG - Starting style transfer on data/orangutan/input_frames/000818_frame.jpg\n",
      "2019-07-15 08:17:33,758 [root:style_transfer.py:145] DEBUG - Processing data/orangutan/input_frames/000818_frame.jpg\n",
      "2019-07-15 08:17:39,410 [root:process_images_from_queue.py:87] DEBUG - Finished style transfer on data/orangutan/input_frames/000818_frame.jpg\n",
      "2019-07-15 08:17:39,411 [root:process_images_from_queue.py:90] DEBUG - Deleting queue message...\n",
      "2019-07-15 08:17:39,444 [root:process_images_from_queue.py:39] DEBUG - Peek queue...\n",
      "2019-07-15 08:17:39,459 [root:process_images_from_queue.py:75] DEBUG - Queue message body: {'input_frame': '000817_frame.jpg', 'video_name': 'orangutan'}\n",
      "2019-07-15 08:17:39,459 [root:process_images_from_queue.py:78] DEBUG - Starting style transfer on data/orangutan/input_frames/000817_frame.jpg\n",
      "2019-07-15 08:17:39,489 [root:style_transfer.py:145] DEBUG - Processing data/orangutan/input_frames/000817_frame.jpg\n",
      "2019-07-15 08:17:45,075 [root:process_images_from_queue.py:87] DEBUG - Finished style transfer on data/orangutan/input_frames/000817_frame.jpg\n",
      "2019-07-15 08:17:45,075 [root:process_images_from_queue.py:90] DEBUG - Deleting queue message...\n",
      "2019-07-15 08:17:45,124 [root:process_images_from_queue.py:39] DEBUG - Peek queue...\n",
      "2019-07-15 08:17:45,140 [root:process_images_from_queue.py:75] DEBUG - Queue message body: {'input_frame': '000816_frame.jpg', 'video_name': 'orangutan'}\n",
      "2019-07-15 08:17:45,140 [root:process_images_from_queue.py:78] DEBUG - Starting style transfer on data/orangutan/input_frames/000816_frame.jpg\n",
      "2019-07-15 08:17:45,171 [root:style_transfer.py:145] DEBUG - Processing data/orangutan/input_frames/000816_frame.jpg\n",
      "2019-07-15 08:17:50,797 [root:process_images_from_queue.py:87] DEBUG - Finished style transfer on data/orangutan/input_frames/000816_frame.jpg\n",
      "2019-07-15 08:17:50,798 [root:process_images_from_queue.py:90] DEBUG - Deleting queue message...\n",
      "2019-07-15 08:17:50,845 [root:process_images_from_queue.py:39] DEBUG - Peek queue...\n",
      "2019-07-15 08:17:50,858 [root:process_images_from_queue.py:75] DEBUG - Queue message body: {'input_frame': '000815_frame.jpg', 'video_name': 'orangutan'}\n",
      "2019-07-15 08:17:50,859 [root:process_images_from_queue.py:78] DEBUG - Starting style transfer on data/orangutan/input_frames/000815_frame.jpg\n",
      "2019-07-15 08:17:50,889 [root:style_transfer.py:145] DEBUG - Processing data/orangutan/input_frames/000815_frame.jpg\n",
      "2019-07-15 08:17:56,562 [root:process_images_from_queue.py:87] DEBUG - Finished style transfer on data/orangutan/input_frames/000815_frame.jpg\n",
      "2019-07-15 08:17:56,562 [root:process_images_from_queue.py:90] DEBUG - Deleting queue message...\n",
      "2019-07-15 08:17:56,610 [root:process_images_from_queue.py:39] DEBUG - Peek queue...\n",
      "2019-07-15 08:17:56,624 [root:process_images_from_queue.py:75] DEBUG - Queue message body: {'input_frame': '000814_frame.jpg', 'video_name': 'orangutan'}\n",
      "2019-07-15 08:17:56,625 [root:process_images_from_queue.py:78] DEBUG - Starting style transfer on data/orangutan/input_frames/000814_frame.jpg\n",
      "2019-07-15 08:17:56,654 [root:style_transfer.py:145] DEBUG - Processing data/orangutan/input_frames/000814_frame.jpg\n",
      "2019-07-15 08:18:02,325 [root:process_images_from_queue.py:87] DEBUG - Finished style transfer on data/orangutan/input_frames/000814_frame.jpg\n",
      "2019-07-15 08:18:02,325 [root:process_images_from_queue.py:90] DEBUG - Deleting queue message...\n",
      "2019-07-15 08:18:02,410 [root:process_images_from_queue.py:39] DEBUG - Peek queue...\n",
      "2019-07-15 08:18:02,424 [root:process_images_from_queue.py:75] DEBUG - Queue message body: {'input_frame': '000813_frame.jpg', 'video_name': 'orangutan'}\n",
      "2019-07-15 08:18:02,424 [root:process_images_from_queue.py:78] DEBUG - Starting style transfer on data/orangutan/input_frames/000813_frame.jpg\n",
      "2019-07-15 08:18:02,454 [root:style_transfer.py:145] DEBUG - Processing data/orangutan/input_frames/000813_frame.jpg\n",
      "2019-07-15 08:18:08,182 [root:process_images_from_queue.py:87] DEBUG - Finished style transfer on data/orangutan/input_frames/000813_frame.jpg\n",
      "2019-07-15 08:18:08,182 [root:process_images_from_queue.py:90] DEBUG - Deleting queue message...\n"
     ]
    },
    {
     "name": "stdout",
     "output_type": "stream",
     "text": [
      "2019-07-15 08:18:08,305 [root:process_images_from_queue.py:39] DEBUG - Peek queue...\n",
      "2019-07-15 08:18:08,319 [root:process_images_from_queue.py:75] DEBUG - Queue message body: {'input_frame': '000812_frame.jpg', 'video_name': 'orangutan'}\n",
      "2019-07-15 08:18:08,319 [root:process_images_from_queue.py:78] DEBUG - Starting style transfer on data/orangutan/input_frames/000812_frame.jpg\n",
      "2019-07-15 08:18:08,350 [root:style_transfer.py:145] DEBUG - Processing data/orangutan/input_frames/000812_frame.jpg\n",
      "2019-07-15 08:18:14,010 [root:process_images_from_queue.py:87] DEBUG - Finished style transfer on data/orangutan/input_frames/000812_frame.jpg\n",
      "2019-07-15 08:18:14,011 [root:process_images_from_queue.py:90] DEBUG - Deleting queue message...\n",
      "2019-07-15 08:18:14,138 [root:process_images_from_queue.py:39] DEBUG - Peek queue...\n",
      "2019-07-15 08:18:14,152 [root:process_images_from_queue.py:75] DEBUG - Queue message body: {'input_frame': '000811_frame.jpg', 'video_name': 'orangutan'}\n",
      "2019-07-15 08:18:14,153 [root:process_images_from_queue.py:78] DEBUG - Starting style transfer on data/orangutan/input_frames/000811_frame.jpg\n",
      "2019-07-15 08:18:14,182 [root:style_transfer.py:145] DEBUG - Processing data/orangutan/input_frames/000811_frame.jpg\n",
      "2019-07-15 08:18:19,922 [root:process_images_from_queue.py:87] DEBUG - Finished style transfer on data/orangutan/input_frames/000811_frame.jpg\n",
      "2019-07-15 08:18:19,922 [root:process_images_from_queue.py:90] DEBUG - Deleting queue message...\n",
      "2019-07-15 08:18:19,964 [root:process_images_from_queue.py:39] DEBUG - Peek queue...\n",
      "2019-07-15 08:18:19,980 [root:process_images_from_queue.py:75] DEBUG - Queue message body: {'input_frame': '000810_frame.jpg', 'video_name': 'orangutan'}\n",
      "2019-07-15 08:18:19,980 [root:process_images_from_queue.py:78] DEBUG - Starting style transfer on data/orangutan/input_frames/000810_frame.jpg\n",
      "2019-07-15 08:18:20,007 [root:style_transfer.py:145] DEBUG - Processing data/orangutan/input_frames/000810_frame.jpg\n"
     ]
    }
   ],
   "source": [
    "!python scoring_app/main.py --terminate"
   ]
  },
  {
   "cell_type": "markdown",
   "metadata": {},
   "source": [
    "### Postprocess the frames\n",
    "Now that the frames have been processed, we can stitch then back together and reattach the audio file using the `flask_app/postprocess.py` file."
   ]
  },
  {
   "cell_type": "code",
   "execution_count": null,
   "metadata": {},
   "outputs": [],
   "source": [
    "!python flask_app/postprocess.py \\\n",
    "    --video-name orangutan \\\n",
    "    --storage-mount-dir data"
   ]
  },
  {
   "cell_type": "markdown",
   "metadata": {},
   "source": [
    "Play the video! It will be called `{video_name}_processed.mp4`"
   ]
  },
  {
   "cell_type": "code",
   "execution_count": null,
   "metadata": {},
   "outputs": [],
   "source": [
    "%%HTML\n",
    "<video width=\"320\" height=\"240\" controls>\n",
    "  <source src=\"data/orangutan/orangutan_processed.mp4\" type=\"video/mp4\">\n",
    "</video>"
   ]
  },
  {
   "cell_type": "markdown",
   "metadata": {},
   "source": [
    "### Additional commands to monitor\n",
    "Use these additional commands to monitor.\n",
    "\n",
    "```bash\n",
    "# checkout how many elements are in the queue\n",
    "!az servicebus queue show \\\n",
    "    --name {get_key(env_path, \"SB_QUEUE\")} \\\n",
    "    --namespace-name {get_key(env_path, \"SB_NAMESPACE\")} \\\n",
    "    --resource-group {get_key(env_path, \"RESOURCE_GROUP\")} \\\n",
    "    --query \"countDetails.activeMessageCount\"\n",
    "```"
   ]
  },
  {
   "cell_type": "markdown",
   "metadata": {},
   "source": [
    "---"
   ]
  },
  {
   "cell_type": "markdown",
   "metadata": {},
   "source": [
    "Continue to the next [notebook](/notebooks/03_create_aks_cluster.ipynb)."
   ]
  }
 ],
 "metadata": {
  "kernelspec": {
   "display_name": "Python [conda env:bc_aks] *",
   "language": "python",
   "name": "conda-env-bc_aks-py"
  },
  "language_info": {
   "codemirror_mode": {
    "name": "ipython",
    "version": 3
   },
   "file_extension": ".py",
   "mimetype": "text/x-python",
   "name": "python",
   "nbconvert_exporter": "python",
   "pygments_lexer": "ipython3",
   "version": "3.6.8"
  }
 },
 "nbformat": 4,
 "nbformat_minor": 2
}
