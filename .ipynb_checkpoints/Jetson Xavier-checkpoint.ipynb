{
 "cells": [
  {
   "cell_type": "markdown",
   "metadata": {},
   "source": [
    "# NVIDIA Jetson AGX Xavier\n",
    "\n",
    "The NVIDIA Jetson AGX Xavier Developer Kit is the latest addition to the Jetson platform. It’s an AI computer for autonomous machines, delivering the performance of a GPU workstation in an embedded module under 30W. Jetson AGX Xavier is designed for robots, drones and other autonomous machines.\n",
    "\n",
    "This document has two parts: part one explains how to setup Xavier from scratch, and part two shows the usage of Xavier"
   ]
  },
  {
   "cell_type": "markdown",
   "metadata": {},
   "source": [
    "## Setup Xavier\n",
    "\n",
    "- First, you need a Ubuntu machine.\n",
    "    - See section 'Our Ubuntu machine'\n",
    "\n",
    "- Install Jetpack with SDKmanager. Note that you would need an NVIDIA account in order to download and use SDKmanager.\n",
    "    - [Download](https://developer.nvidia.com/nvidia-sdk-manager)\n",
    "    - [Document](https://docs.nvidia.com/sdk-manager/index.html)\n",
    "    - Installation instructions are at the bottom of the first link.\n",
    "    \n",
    "- You need a USB cable to connect Jetson with the host Ubuntu computer. \n",
    "    - According to the document, you need to use the front USB-C port.\n",
    "    \n",
    "- Connect the Ethernet cable for connections.\n",
    "\n",
    "- Connect a screen with the HDMI port at the back. You may also connect a pair of mouse and keyboard to Xavier with a hub and hook it up to the back of Xavier.\n",
    "    - This is highly recommended. You will very likely need these.\n",
    "    \n",
    "- Up until this point, your Xavier isn't powered on. Now you need to put your Xavier into recovery mode.\n",
    "    - Hold down recover button. Don't release.\n",
    "        - It's the one in the middle. You should see small prints that say 'force recovery' next to the button.\n",
    "    - Hold down power button. Don't release.\n",
    "        - It's the one closer to the front. You should see a small print that says 'power' next to the button.\n",
    "    - Release both buttons.\n",
    "\n",
    "- Run the installer (SDKmanager).\n",
    "    - After the OS is flashed, you need to go to the Xavier screen and finish the setup. \n",
    "    \n",
    "- Documents are here:\n",
    "    - [Jetson Xavier](https://developer.download.nvidia.cn/embedded/L4T/r32-2_Release_v1.0/jetson_agx_xavier_developer_kit_user_guide.pdf?FYiT4C84VNhdGyDAh60lGn83_QCLRLauU6DcxP9ZynBnGPeEuTsAHSFLx-a891r_MNDS5UCmL3eixjkZMVD80_VG0H7dIyQD6PsAv1PX5g7fwcmnOQXPiHTsmqhSMqj_EpZxymxJRN99Rcb_mFqyB71v5-iHIXAEFbM1i5oldlRz3c5_UoBWvr-y3B1n)\n",
    "    - [Jetpack](https://docs.nvidia.com/jetson/archives/jetpack-archived/jetpack-411/index.html)"
   ]
  },
  {
   "cell_type": "markdown",
   "metadata": {},
   "source": [
    "## Our Xavier\n",
    "\n",
    "- Account: msiot \n",
    "- Password: msiot\n",
    "- Static IP Address: 10.1.11.33\n",
    "\n",
    "The environment is a customized Ubuntu. It has several power modes which have different computing capabilities with respective power ratings. \n",
    "\n",
    "CUDA Toolkits and CuDNN are already installed with Jetpack. ```nvidia-smi``` does not work since it does not have the conventioned driver as many desktop do.\n",
    "\n",
    "To use tensorflow, there is a virtual environment at ```~/venv/tf-py36-gpu```. You may want to do ```source ~/venv/tf-py36-gpu/bin/activate``` to enter the environment. Some essential packages are already installed, including numpy, tensorflow-gpu, jupyter, pillow, etc. Once the virtualenv is activated, you should be able to start a jupyter notebook. You will find there is a notebook under ```~/msiot/Object-Detection-Demo```. If everything works fine, the notebook should run with no problem.\n",
    "\n",
    "Exit the environment by ```deactivate``` in terminal."
   ]
  },
  {
   "cell_type": "markdown",
   "metadata": {},
   "source": [
    "## Our Ubuntu\n",
    "\n",
    "- Account: msiot\n",
    "- Password: msiot\n",
    "\n",
    "Conda is installed on this ubuntu; thus, it is easier to manage python environments. Use ```conda env list``` to see available environments.\n",
    "\n",
    "You can use tensorflow with gpu under ```tf-py36-gpu```. Similar to the previous section, you should be able to run the notebook in ```~/msiot/Object-Detection-Demo``` with no problem.\n",
    "\n",
    "### Caution!\n",
    "When updating system packages with ```apt update && apt upgrade```, take extra care with nvidia packages. **DO NOT** update nvidia drivers or cudnn packages unless you know what you are doing. If for some reason CUDA is not working properly, you should be able to fallback to the CUDA 10.0 by running the ```~/msiot/install_cuda.sh``` script with super user priviledge."
   ]
  },
  {
   "cell_type": "code",
   "execution_count": null,
   "metadata": {},
   "outputs": [],
   "source": []
  }
 ],
 "metadata": {
  "kernelspec": {
   "display_name": "Python 3",
   "language": "python",
   "name": "python3"
  },
  "language_info": {
   "codemirror_mode": {
    "name": "ipython",
    "version": 3
   },
   "file_extension": ".py",
   "mimetype": "text/x-python",
   "name": "python",
   "nbconvert_exporter": "python",
   "pygments_lexer": "ipython3",
   "version": "3.6.9"
  }
 },
 "nbformat": 4,
 "nbformat_minor": 2
}
