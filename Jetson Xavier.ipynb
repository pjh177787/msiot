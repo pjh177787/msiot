{
 "cells": [
  {
   "cell_type": "markdown",
   "metadata": {},
   "source": [
    "# NVIDIA Jetson AGX Xavier\n",
    "\n",
    "The NVIDIA Jetson AGX Xavier Developer Kit is the latest addition to the Jetson platform. It’s an AI computer for autonomous machines, delivering the performance of a GPU workstation in an embedded module under 30W. Jetson AGX Xavier is designed for robots, drones and other autonomous machines.\n",
    "\n",
    "This document has two parts: part one explains how to setup Xavier from scratch, and part two shows the usage of Xavier"
   ]
  },
  {
   "cell_type": "markdown",
   "metadata": {},
   "source": [
    "## Setup Xavier\n",
    "\n",
    "- First, you need a Ubuntu machine\n",
    "\n",
    "- Install Jetpack with SDKmanager \n",
    "    - [Download](https://developer.nvidia.com/nvidia-sdk-manager)\n",
    "    - [Document](https://docs.nvidia.com/sdk-manager/download-run-sdkm/index.html)"
   ]
  },
  {
   "cell_type": "code",
   "execution_count": null,
   "metadata": {},
   "outputs": [],
   "source": []
  }
 ],
 "metadata": {
  "kernelspec": {
   "display_name": "Python 3",
   "language": "python",
   "name": "python3"
  },
  "language_info": {
   "codemirror_mode": {
    "name": "ipython",
    "version": 3
   },
   "file_extension": ".py",
   "mimetype": "text/x-python",
   "name": "python",
   "nbconvert_exporter": "python",
   "pygments_lexer": "ipython3",
   "version": "3.7.3"
  }
 },
 "nbformat": 4,
 "nbformat_minor": 2
}
